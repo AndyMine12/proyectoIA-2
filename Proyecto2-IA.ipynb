{
  "cells": [
    {
      "cell_type": "markdown",
      "metadata": {
        "id": "FEW-SQZoCYbT"
      },
      "source": [
        "# Definición del problema"
      ]
    },
    {
      "cell_type": "markdown",
      "source": [
        "Se desea entrenar un modelo que sea capaz de 'completar' una frase a medio escribir mediante generación del siguiente caracter en la secuencia.\n",
        "\n",
        "El sistema será capaz de realizar estas funciones en Español.\n",
        "Será entrenado a partir de una versión reducida del Principito, donde se eliminaron los acentos y se sustituyó 'ñ' por 'n' para reducir el vocabulario.\n",
        "\n",
        "El modelo deberá inferir el siguiente caracter a partir de estudiar la distribución de probabilidad presente en el texto."
      ],
      "metadata": {
        "id": "9FcXCHksCbGB"
      }
    },
    {
      "cell_type": "markdown",
      "metadata": {
        "id": "u0VZpRHJCYbX"
      },
      "source": [
        "# Estructura del modelo"
      ]
    },
    {
      "cell_type": "markdown",
      "source": [
        "Se utilizará un modelo con una capa LSTM de 256 neuronas y Dropout de 0.2; seguida de una capa densa que permita analizar el resultado y generar una distribución de probabilidad del caracter siguiente a través de activación Softmax\n",
        "\n",
        "Será optimizada mediante entropía cruzada como función de pérdida y rmsprop como algoritmo de optimización."
      ],
      "metadata": {
        "id": "UDxIuu-p1uUJ"
      }
    },
    {
      "cell_type": "markdown",
      "source": [
        "# Importacion de Librerias"
      ],
      "metadata": {
        "id": "Zxrx98HjngrH"
      }
    },
    {
      "cell_type": "code",
      "source": [
        "import numpy as np\n",
        "\n",
        "import keras as kr\n",
        "from keras.models import Sequential\n",
        "from keras.layers import Dense, LSTM, Dropout"
      ],
      "metadata": {
        "id": "R0_I7z3pnlT9"
      },
      "execution_count": 10,
      "outputs": []
    },
    {
      "cell_type": "markdown",
      "metadata": {
        "id": "VIQTHR1LCYbZ"
      },
      "source": [
        "# Datos de entrada"
      ]
    },
    {
      "cell_type": "code",
      "execution_count": 11,
      "metadata": {
        "vscode": {
          "languageId": "plaintext"
        },
        "id": "NH6BNWm-CYbZ",
        "colab": {
          "base_uri": "https://localhost:8080/"
        },
        "outputId": "bb2d8b5a-73bb-4322-899f-378ee6730726"
      },
      "outputs": [
        {
          "output_type": "stream",
          "name": "stdout",
          "text": [
            "Total line count: 1\n",
            "Total character count: 74156\n"
          ]
        }
      ],
      "source": [
        "# Extract text from Spanish book converted into txt format\n",
        "txt_file = \"sanitized_text_dump.txt\"\n",
        "\n",
        "lines: list[str] = []\n",
        "with open(txt_file, 'r', encoding=\"UTF-8\") as file:\n",
        "  for line in file:\n",
        "    if line != \"\\n\": #Do not include empty lines in text digest\n",
        "      lines.append(line)\n",
        "\n",
        "#As of this point, 'lines' variable should hold the full length of the txt file\n",
        "print(\"Total line count:\", len(lines))\n",
        "print(\"Total character count:\", sum([len(item) for item in lines]))"
      ]
    },
    {
      "cell_type": "code",
      "source": [
        "# Extract used vocabulary and construct encode/decode dictionaries\n",
        "full_txt_str: str = \"\"\n",
        "vocab: list[str] = []\n",
        "acc = 0 #Used to print partial progress of the operation\n",
        "big_acc = 1 #Same as above\n",
        "for paragraph in lines: #Do not consider index, acknowledgements, appendix, etc etc (i.e. only consider main story block for training)\n",
        "  full_txt_str += paragraph\n",
        "  for char in paragraph:\n",
        "    if char not in vocab:\n",
        "      vocab.append(char)\n",
        "  #Print partial progress\n",
        "  acc += 1\n",
        "  if (acc >= (14346-31)*0.2):\n",
        "    print(f\"Vocabulary {20*big_acc}% built\")\n",
        "    acc = 0\n",
        "    big_acc += 1\n",
        "vocab.sort()\n",
        "vocab_size = len(vocab)\n",
        "\n",
        "encode_keys:dict[str,int] = {}\n",
        "decode_keys: dict[int, str] = {}\n",
        "for index, char in enumerate(vocab):\n",
        "  encode_keys[char] = index\n",
        "  decode_keys[index] = char\n",
        "\n",
        "#As of this point, the full vocabulary should be indexed\n",
        "print(\"Total unique characters:\", vocab_size)\n",
        "print(\"Total encode/decode dictionary keys:\", len(encode_keys.keys()),\"|\", len(decode_keys.keys()))\n",
        "print(\"Key list\\n\",encode_keys.keys())"
      ],
      "metadata": {
        "colab": {
          "base_uri": "https://localhost:8080/"
        },
        "id": "TzR18gLGE5B0",
        "outputId": "5f7cfd23-25b4-4876-d603-0961d043e084"
      },
      "execution_count": 12,
      "outputs": [
        {
          "output_type": "stream",
          "name": "stdout",
          "text": [
            "Total unique characters: 25\n",
            "Total encode/decode dictionary keys: 25 | 25\n",
            "Key list\n",
            " dict_keys([' ', 'a', 'b', 'c', 'd', 'e', 'f', 'g', 'h', 'i', 'j', 'l', 'm', 'n', 'o', 'p', 'q', 'r', 's', 't', 'u', 'v', 'x', 'y', 'z'])\n"
          ]
        }
      ]
    },
    {
      "cell_type": "code",
      "source": [
        "# Construct input/output data for LSTM network\n",
        "seq_length = 50\n",
        "input_seqs: list[list[float]] = []\n",
        "output_seqs: list[float] = []\n",
        "acc = 0 #Used to print partial progress of the operation\n",
        "big_acc = 1 #Same as above\n",
        "\n",
        "current:list[float] = []\n",
        "for char in full_txt_str:\n",
        "  if (len(current) >= seq_length):\n",
        "    input_seqs.append(current.copy())\n",
        "    output_seqs.append(encode_keys[char])\n",
        "    current = current[1:] #Remove first element\n",
        "  current.append(encode_keys[char])\n",
        "  #Print partial progress\n",
        "  acc += 1\n",
        "  if (acc >= len(full_txt_str)*0.2):\n",
        "    print(f\"IO data {20*big_acc}% built\")\n",
        "    acc = 0\n",
        "    big_acc += 1\n",
        "\n",
        "#Normalize input sequences\n",
        "normal_input_seqs: list[list[float]] = []\n",
        "for row in input_seqs:\n",
        "  normal_input_seqs.append([item/(vocab_size - 1) for item in row])\n",
        "print(\"Data normalization done\")\n",
        "\n",
        "#Construct arrays from data used\n",
        "train_data: np.ndarray = np.array([np.array(row) for row in normal_input_seqs])\n",
        "train_tags: np.ndarray = np.array([np.zeros(vocab_size) for item in output_seqs])\n",
        "for index, value in enumerate(output_seqs):\n",
        "  train_tags[index][value] = 1.0\n",
        "\n",
        "#As of this point, the full set of training data has been built\n",
        "print(\"Train shape:\", train_data.shape)\n",
        "print(\"Tags shape:\", train_tags.shape)\n",
        "print(\"First 20 steps\")\n",
        "acc = 0\n",
        "for data,tag in zip(train_data, train_tags):\n",
        "  print(acc+1)\n",
        "  print(data)\n",
        "  print(tag)\n",
        "  acc += 1\n",
        "  if (acc >= 20):\n",
        "    break"
      ],
      "metadata": {
        "colab": {
          "base_uri": "https://localhost:8080/"
        },
        "collapsed": true,
        "id": "w3qZR9S7khoH",
        "outputId": "36fa1d3c-e3e2-45ae-db73-f3dc83f16ff1"
      },
      "execution_count": 13,
      "outputs": [
        {
          "output_type": "stream",
          "name": "stdout",
          "text": [
            "IO data 20% built\n",
            "IO data 40% built\n",
            "IO data 60% built\n",
            "IO data 80% built\n",
            "Data normalization done\n",
            "Train shape: (74106, 50)\n",
            "Tags shape: (74106, 25)\n",
            "First 20 steps\n",
            "1\n",
            "[0.125      0.83333333 0.04166667 0.54166667 0.16666667 0.58333333\n",
            " 0.         0.20833333 0.70833333 0.04166667 0.         0.54166667\n",
            " 0.375      0.54166667 0.58333333 0.         0.         0.125\n",
            " 0.83333333 0.04166667 0.54166667 0.16666667 0.58333333 0.\n",
            " 0.95833333 0.58333333 0.         0.79166667 0.20833333 0.54166667\n",
            " 0.375      0.04166667 0.         0.75       0.20833333 0.375\n",
            " 0.75       0.         0.04166667 0.54166667 0.58333333 0.75\n",
            " 0.         0.875      0.375      0.         0.20833333 0.54166667\n",
            " 0.         0.83333333]\n",
            "[0. 0. 0. 0. 0. 0. 0. 0. 0. 0. 0. 0. 0. 1. 0. 0. 0. 0. 0. 0. 0. 0. 0. 0.\n",
            " 0.]\n",
            "2\n",
            "[0.83333333 0.04166667 0.54166667 0.16666667 0.58333333 0.\n",
            " 0.20833333 0.70833333 0.04166667 0.         0.54166667 0.375\n",
            " 0.54166667 0.58333333 0.         0.         0.125      0.83333333\n",
            " 0.04166667 0.54166667 0.16666667 0.58333333 0.         0.95833333\n",
            " 0.58333333 0.         0.79166667 0.20833333 0.54166667 0.375\n",
            " 0.04166667 0.         0.75       0.20833333 0.375      0.75\n",
            " 0.         0.04166667 0.54166667 0.58333333 0.75       0.\n",
            " 0.875      0.375      0.         0.20833333 0.54166667 0.\n",
            " 0.83333333 0.54166667]\n",
            "[1. 0. 0. 0. 0. 0. 0. 0. 0. 0. 0. 0. 0. 0. 0. 0. 0. 0. 0. 0. 0. 0. 0. 0.\n",
            " 0.]\n",
            "3\n",
            "[0.04166667 0.54166667 0.16666667 0.58333333 0.         0.20833333\n",
            " 0.70833333 0.04166667 0.         0.54166667 0.375      0.54166667\n",
            " 0.58333333 0.         0.         0.125      0.83333333 0.04166667\n",
            " 0.54166667 0.16666667 0.58333333 0.         0.95833333 0.58333333\n",
            " 0.         0.79166667 0.20833333 0.54166667 0.375      0.04166667\n",
            " 0.         0.75       0.20833333 0.375      0.75       0.\n",
            " 0.04166667 0.54166667 0.58333333 0.75       0.         0.875\n",
            " 0.375      0.         0.20833333 0.54166667 0.         0.83333333\n",
            " 0.54166667 0.        ]\n",
            "[0. 0. 0. 0. 0. 0. 0. 0. 0. 0. 0. 1. 0. 0. 0. 0. 0. 0. 0. 0. 0. 0. 0. 0.\n",
            " 0.]\n",
            "4\n",
            "[0.54166667 0.16666667 0.58333333 0.         0.20833333 0.70833333\n",
            " 0.04166667 0.         0.54166667 0.375      0.54166667 0.58333333\n",
            " 0.         0.         0.125      0.83333333 0.04166667 0.54166667\n",
            " 0.16666667 0.58333333 0.         0.95833333 0.58333333 0.\n",
            " 0.79166667 0.20833333 0.54166667 0.375      0.04166667 0.\n",
            " 0.75       0.20833333 0.375      0.75       0.         0.04166667\n",
            " 0.54166667 0.58333333 0.75       0.         0.875      0.375\n",
            " 0.         0.20833333 0.54166667 0.         0.83333333 0.54166667\n",
            " 0.         0.45833333]\n",
            "[0. 0. 0. 0. 0. 0. 0. 0. 0. 1. 0. 0. 0. 0. 0. 0. 0. 0. 0. 0. 0. 0. 0. 0.\n",
            " 0.]\n",
            "5\n",
            "[0.16666667 0.58333333 0.         0.20833333 0.70833333 0.04166667\n",
            " 0.         0.54166667 0.375      0.54166667 0.58333333 0.\n",
            " 0.         0.125      0.83333333 0.04166667 0.54166667 0.16666667\n",
            " 0.58333333 0.         0.95833333 0.58333333 0.         0.79166667\n",
            " 0.20833333 0.54166667 0.375      0.04166667 0.         0.75\n",
            " 0.20833333 0.375      0.75       0.         0.04166667 0.54166667\n",
            " 0.58333333 0.75       0.         0.875      0.375      0.\n",
            " 0.20833333 0.54166667 0.         0.83333333 0.54166667 0.\n",
            " 0.45833333 0.375     ]\n",
            "[0. 0. 1. 0. 0. 0. 0. 0. 0. 0. 0. 0. 0. 0. 0. 0. 0. 0. 0. 0. 0. 0. 0. 0.\n",
            " 0.]\n",
            "6\n",
            "[0.58333333 0.         0.20833333 0.70833333 0.04166667 0.\n",
            " 0.54166667 0.375      0.54166667 0.58333333 0.         0.\n",
            " 0.125      0.83333333 0.04166667 0.54166667 0.16666667 0.58333333\n",
            " 0.         0.95833333 0.58333333 0.         0.79166667 0.20833333\n",
            " 0.54166667 0.375      0.04166667 0.         0.75       0.20833333\n",
            " 0.375      0.75       0.         0.04166667 0.54166667 0.58333333\n",
            " 0.75       0.         0.875      0.375      0.         0.20833333\n",
            " 0.54166667 0.         0.83333333 0.54166667 0.         0.45833333\n",
            " 0.375      0.08333333]\n",
            "[0. 0. 0. 0. 0. 0. 0. 0. 0. 0. 0. 0. 0. 0. 0. 0. 0. 1. 0. 0. 0. 0. 0. 0.\n",
            " 0.]\n",
            "7\n",
            "[0.         0.20833333 0.70833333 0.04166667 0.         0.54166667\n",
            " 0.375      0.54166667 0.58333333 0.         0.         0.125\n",
            " 0.83333333 0.04166667 0.54166667 0.16666667 0.58333333 0.\n",
            " 0.95833333 0.58333333 0.         0.79166667 0.20833333 0.54166667\n",
            " 0.375      0.04166667 0.         0.75       0.20833333 0.375\n",
            " 0.75       0.         0.04166667 0.54166667 0.58333333 0.75\n",
            " 0.         0.875      0.375      0.         0.20833333 0.54166667\n",
            " 0.         0.83333333 0.54166667 0.         0.45833333 0.375\n",
            " 0.08333333 0.70833333]\n",
            "[0. 0. 0. 0. 0. 0. 0. 0. 0. 0. 0. 0. 0. 0. 1. 0. 0. 0. 0. 0. 0. 0. 0. 0.\n",
            " 0.]\n",
            "8\n",
            "[0.20833333 0.70833333 0.04166667 0.         0.54166667 0.375\n",
            " 0.54166667 0.58333333 0.         0.         0.125      0.83333333\n",
            " 0.04166667 0.54166667 0.16666667 0.58333333 0.         0.95833333\n",
            " 0.58333333 0.         0.79166667 0.20833333 0.54166667 0.375\n",
            " 0.04166667 0.         0.75       0.20833333 0.375      0.75\n",
            " 0.         0.04166667 0.54166667 0.58333333 0.75       0.\n",
            " 0.875      0.375      0.         0.20833333 0.54166667 0.\n",
            " 0.83333333 0.54166667 0.         0.45833333 0.375      0.08333333\n",
            " 0.70833333 0.58333333]\n",
            "[1. 0. 0. 0. 0. 0. 0. 0. 0. 0. 0. 0. 0. 0. 0. 0. 0. 0. 0. 0. 0. 0. 0. 0.\n",
            " 0.]\n",
            "9\n",
            "[0.70833333 0.04166667 0.         0.54166667 0.375      0.54166667\n",
            " 0.58333333 0.         0.         0.125      0.83333333 0.04166667\n",
            " 0.54166667 0.16666667 0.58333333 0.         0.95833333 0.58333333\n",
            " 0.         0.79166667 0.20833333 0.54166667 0.375      0.04166667\n",
            " 0.         0.75       0.20833333 0.375      0.75       0.\n",
            " 0.04166667 0.54166667 0.58333333 0.75       0.         0.875\n",
            " 0.375      0.         0.20833333 0.54166667 0.         0.83333333\n",
            " 0.54166667 0.         0.45833333 0.375      0.08333333 0.70833333\n",
            " 0.58333333 0.        ]\n",
            "[0. 0. 0. 0. 0. 0. 0. 0. 0. 0. 0. 0. 0. 0. 0. 0. 0. 0. 1. 0. 0. 0. 0. 0.\n",
            " 0.]\n",
            "10\n",
            "[0.04166667 0.         0.54166667 0.375      0.54166667 0.58333333\n",
            " 0.         0.         0.125      0.83333333 0.04166667 0.54166667\n",
            " 0.16666667 0.58333333 0.         0.95833333 0.58333333 0.\n",
            " 0.79166667 0.20833333 0.54166667 0.375      0.04166667 0.\n",
            " 0.75       0.20833333 0.375      0.75       0.         0.04166667\n",
            " 0.54166667 0.58333333 0.75       0.         0.875      0.375\n",
            " 0.         0.20833333 0.54166667 0.         0.83333333 0.54166667\n",
            " 0.         0.45833333 0.375      0.08333333 0.70833333 0.58333333\n",
            " 0.         0.75      ]\n",
            "[0. 0. 0. 0. 0. 0. 0. 0. 0. 0. 0. 0. 0. 0. 1. 0. 0. 0. 0. 0. 0. 0. 0. 0.\n",
            " 0.]\n",
            "11\n",
            "[0.         0.54166667 0.375      0.54166667 0.58333333 0.\n",
            " 0.         0.125      0.83333333 0.04166667 0.54166667 0.16666667\n",
            " 0.58333333 0.         0.95833333 0.58333333 0.         0.79166667\n",
            " 0.20833333 0.54166667 0.375      0.04166667 0.         0.75\n",
            " 0.20833333 0.375      0.75       0.         0.04166667 0.54166667\n",
            " 0.58333333 0.75       0.         0.875      0.375      0.\n",
            " 0.20833333 0.54166667 0.         0.83333333 0.54166667 0.\n",
            " 0.45833333 0.375      0.08333333 0.70833333 0.58333333 0.\n",
            " 0.75       0.58333333]\n",
            "[0. 0. 1. 0. 0. 0. 0. 0. 0. 0. 0. 0. 0. 0. 0. 0. 0. 0. 0. 0. 0. 0. 0. 0.\n",
            " 0.]\n",
            "12\n",
            "[0.54166667 0.375      0.54166667 0.58333333 0.         0.\n",
            " 0.125      0.83333333 0.04166667 0.54166667 0.16666667 0.58333333\n",
            " 0.         0.95833333 0.58333333 0.         0.79166667 0.20833333\n",
            " 0.54166667 0.375      0.04166667 0.         0.75       0.20833333\n",
            " 0.375      0.75       0.         0.04166667 0.54166667 0.58333333\n",
            " 0.75       0.         0.875      0.375      0.         0.20833333\n",
            " 0.54166667 0.         0.83333333 0.54166667 0.         0.45833333\n",
            " 0.375      0.08333333 0.70833333 0.58333333 0.         0.75\n",
            " 0.58333333 0.08333333]\n",
            "[0. 0. 0. 0. 0. 0. 0. 0. 0. 0. 0. 0. 0. 0. 0. 0. 0. 1. 0. 0. 0. 0. 0. 0.\n",
            " 0.]\n",
            "13\n",
            "[0.375      0.54166667 0.58333333 0.         0.         0.125\n",
            " 0.83333333 0.04166667 0.54166667 0.16666667 0.58333333 0.\n",
            " 0.95833333 0.58333333 0.         0.79166667 0.20833333 0.54166667\n",
            " 0.375      0.04166667 0.         0.75       0.20833333 0.375\n",
            " 0.75       0.         0.04166667 0.54166667 0.58333333 0.75\n",
            " 0.         0.875      0.375      0.         0.20833333 0.54166667\n",
            " 0.         0.83333333 0.54166667 0.         0.45833333 0.375\n",
            " 0.08333333 0.70833333 0.58333333 0.         0.75       0.58333333\n",
            " 0.08333333 0.70833333]\n",
            "[0. 0. 0. 0. 0. 1. 0. 0. 0. 0. 0. 0. 0. 0. 0. 0. 0. 0. 0. 0. 0. 0. 0. 0.\n",
            " 0.]\n",
            "14\n",
            "[0.54166667 0.58333333 0.         0.         0.125      0.83333333\n",
            " 0.04166667 0.54166667 0.16666667 0.58333333 0.         0.95833333\n",
            " 0.58333333 0.         0.79166667 0.20833333 0.54166667 0.375\n",
            " 0.04166667 0.         0.75       0.20833333 0.375      0.75\n",
            " 0.         0.04166667 0.54166667 0.58333333 0.75       0.\n",
            " 0.875      0.375      0.         0.20833333 0.54166667 0.\n",
            " 0.83333333 0.54166667 0.         0.45833333 0.375      0.08333333\n",
            " 0.70833333 0.58333333 0.         0.75       0.58333333 0.08333333\n",
            " 0.70833333 0.20833333]\n",
            "[1. 0. 0. 0. 0. 0. 0. 0. 0. 0. 0. 0. 0. 0. 0. 0. 0. 0. 0. 0. 0. 0. 0. 0.\n",
            " 0.]\n",
            "15\n",
            "[0.58333333 0.         0.         0.125      0.83333333 0.04166667\n",
            " 0.54166667 0.16666667 0.58333333 0.         0.95833333 0.58333333\n",
            " 0.         0.79166667 0.20833333 0.54166667 0.375      0.04166667\n",
            " 0.         0.75       0.20833333 0.375      0.75       0.\n",
            " 0.04166667 0.54166667 0.58333333 0.75       0.         0.875\n",
            " 0.375      0.         0.20833333 0.54166667 0.         0.83333333\n",
            " 0.54166667 0.         0.45833333 0.375      0.08333333 0.70833333\n",
            " 0.58333333 0.         0.75       0.58333333 0.08333333 0.70833333\n",
            " 0.20833333 0.        ]\n",
            "[0. 0. 0. 0. 0. 0. 0. 0. 0. 0. 0. 1. 0. 0. 0. 0. 0. 0. 0. 0. 0. 0. 0. 0.\n",
            " 0.]\n",
            "16\n",
            "[0.         0.         0.125      0.83333333 0.04166667 0.54166667\n",
            " 0.16666667 0.58333333 0.         0.95833333 0.58333333 0.\n",
            " 0.79166667 0.20833333 0.54166667 0.375      0.04166667 0.\n",
            " 0.75       0.20833333 0.375      0.75       0.         0.04166667\n",
            " 0.54166667 0.58333333 0.75       0.         0.875      0.375\n",
            " 0.         0.20833333 0.54166667 0.         0.83333333 0.54166667\n",
            " 0.         0.45833333 0.375      0.08333333 0.70833333 0.58333333\n",
            " 0.         0.75       0.58333333 0.08333333 0.70833333 0.20833333\n",
            " 0.         0.45833333]\n",
            "[0. 1. 0. 0. 0. 0. 0. 0. 0. 0. 0. 0. 0. 0. 0. 0. 0. 0. 0. 0. 0. 0. 0. 0.\n",
            " 0.]\n",
            "17\n",
            "[0.         0.125      0.83333333 0.04166667 0.54166667 0.16666667\n",
            " 0.58333333 0.         0.95833333 0.58333333 0.         0.79166667\n",
            " 0.20833333 0.54166667 0.375      0.04166667 0.         0.75\n",
            " 0.20833333 0.375      0.75       0.         0.04166667 0.54166667\n",
            " 0.58333333 0.75       0.         0.875      0.375      0.\n",
            " 0.20833333 0.54166667 0.         0.83333333 0.54166667 0.\n",
            " 0.45833333 0.375      0.08333333 0.70833333 0.58333333 0.\n",
            " 0.75       0.58333333 0.08333333 0.70833333 0.20833333 0.\n",
            " 0.45833333 0.04166667]\n",
            "[1. 0. 0. 0. 0. 0. 0. 0. 0. 0. 0. 0. 0. 0. 0. 0. 0. 0. 0. 0. 0. 0. 0. 0.\n",
            " 0.]\n",
            "18\n",
            "[0.125      0.83333333 0.04166667 0.54166667 0.16666667 0.58333333\n",
            " 0.         0.95833333 0.58333333 0.         0.79166667 0.20833333\n",
            " 0.54166667 0.375      0.04166667 0.         0.75       0.20833333\n",
            " 0.375      0.75       0.         0.04166667 0.54166667 0.58333333\n",
            " 0.75       0.         0.875      0.375      0.         0.20833333\n",
            " 0.54166667 0.         0.83333333 0.54166667 0.         0.45833333\n",
            " 0.375      0.08333333 0.70833333 0.58333333 0.         0.75\n",
            " 0.58333333 0.08333333 0.70833333 0.20833333 0.         0.45833333\n",
            " 0.04166667 0.        ]\n",
            "[0. 0. 0. 0. 0. 0. 0. 0. 0. 0. 0. 0. 0. 0. 0. 0. 0. 0. 1. 0. 0. 0. 0. 0.\n",
            " 0.]\n",
            "19\n",
            "[0.83333333 0.04166667 0.54166667 0.16666667 0.58333333 0.\n",
            " 0.95833333 0.58333333 0.         0.79166667 0.20833333 0.54166667\n",
            " 0.375      0.04166667 0.         0.75       0.20833333 0.375\n",
            " 0.75       0.         0.04166667 0.54166667 0.58333333 0.75\n",
            " 0.         0.875      0.375      0.         0.20833333 0.54166667\n",
            " 0.         0.83333333 0.54166667 0.         0.45833333 0.375\n",
            " 0.08333333 0.70833333 0.58333333 0.         0.75       0.58333333\n",
            " 0.08333333 0.70833333 0.20833333 0.         0.45833333 0.04166667\n",
            " 0.         0.75      ]\n",
            "[0. 0. 0. 0. 0. 1. 0. 0. 0. 0. 0. 0. 0. 0. 0. 0. 0. 0. 0. 0. 0. 0. 0. 0.\n",
            " 0.]\n",
            "20\n",
            "[0.04166667 0.54166667 0.16666667 0.58333333 0.         0.95833333\n",
            " 0.58333333 0.         0.79166667 0.20833333 0.54166667 0.375\n",
            " 0.04166667 0.         0.75       0.20833333 0.375      0.75\n",
            " 0.         0.04166667 0.54166667 0.58333333 0.75       0.\n",
            " 0.875      0.375      0.         0.20833333 0.54166667 0.\n",
            " 0.83333333 0.54166667 0.         0.45833333 0.375      0.08333333\n",
            " 0.70833333 0.58333333 0.         0.75       0.58333333 0.08333333\n",
            " 0.70833333 0.20833333 0.         0.45833333 0.04166667 0.\n",
            " 0.75       0.20833333]\n",
            "[0. 0. 0. 0. 0. 0. 0. 0. 0. 0. 0. 1. 0. 0. 0. 0. 0. 0. 0. 0. 0. 0. 0. 0.\n",
            " 0.]\n"
          ]
        }
      ]
    },
    {
      "cell_type": "markdown",
      "source": [
        "# Construcción del modelo"
      ],
      "metadata": {
        "id": "OPUwYDmX97It"
      }
    },
    {
      "cell_type": "code",
      "source": [
        "filename = \"savestate.keras\"\n",
        "isNew = False\n",
        "\n",
        "vect_model = None\n",
        "if (isNew):\n",
        "  vect_model = Sequential()\n",
        "  vect_model.add(kr.Input(shape=(seq_length,1)))\n",
        "  vect_model.add(LSTM(256, return_sequences=True)) #Add dropout?\n",
        "  vect_model.add(Dropout(0.2))\n",
        "  vect_model.add(LSTM(256)) #Add dropout?\n",
        "  vect_model.add(Dropout(0.2))\n",
        "  vect_model.add(Dense(vocab_size, activation=\"softmax\"))\n",
        "  vect_model.compile(loss=\"categorical_crossentropy\",optimizer=\"rmsprop\")\n",
        "else:\n",
        "  vect_model = kr.models.load_model(filename)"
      ],
      "metadata": {
        "id": "uBjJAtCr996s"
      },
      "execution_count": 18,
      "outputs": []
    },
    {
      "cell_type": "markdown",
      "metadata": {
        "id": "8irePKGLCYba"
      },
      "source": [
        "# Entrenamiento del modelo"
      ]
    },
    {
      "cell_type": "code",
      "source": [
        "#Initialize epoch count for savestates' filenames\n",
        "epoch_ct:int = 0"
      ],
      "metadata": {
        "id": "uClapdlqfhoq"
      },
      "execution_count": 15,
      "outputs": []
    },
    {
      "cell_type": "code",
      "source": [
        "#Master flag to define if the model should be trained\n",
        "doTrain:bool = False\n",
        "train_length:int = 5 #Epoch duration of the training\n",
        "\n",
        "if (doTrain):\n",
        "  predict = vect_model.fit(train_data, train_tags, batch_size = 64,epochs = train_length)\n",
        "  epoch_ct += train_length\n",
        "  state_filename = \"sanitized_state_\" + str(epoch_ct) + \"_2LSTM.keras\"\n",
        "  vect_model.save(state_filename)"
      ],
      "metadata": {
        "id": "62DcwYfoECfY",
        "collapsed": true
      },
      "execution_count": 16,
      "outputs": []
    },
    {
      "cell_type": "markdown",
      "metadata": {
        "id": "QD6SIafXCYbb"
      },
      "source": [
        "# Evaluación"
      ]
    },
    {
      "cell_type": "code",
      "execution_count": 48,
      "metadata": {
        "vscode": {
          "languageId": "plaintext"
        },
        "id": "z7UV-B3eCYbb",
        "colab": {
          "base_uri": "https://localhost:8080/"
        },
        "outputId": "c4fbe3c7-fd9b-4e99-d08b-13311d33c64d"
      },
      "outputs": [
        {
          "output_type": "stream",
          "name": "stdout",
          "text": [
            "\u001b[1m1/1\u001b[0m \u001b[32m━━━━━━━━━━━━━━━━━━━━\u001b[0m\u001b[37m\u001b[0m \u001b[1m0s\u001b[0m 29ms/step\n",
            "NEXT|0| \n",
            "mi dibujo no representaba un sombrero representaba \n"
          ]
        }
      ],
      "source": [
        "seed = \"yo no debia hacerle caso me confeso un dia el princip\"\n",
        "#seed = \"mi flor esta alli en alguna parte pero si el cord\"\n",
        "seed = \"mi dibujo no representaba un sombrero representaba\"\n",
        "#seed = \"en efecto me ha servido de mucho al primer vist\"\n",
        "#seed = \"no tenia en absoluto la apariencia de un nino perd\"\n",
        "\n",
        "result = seed\n",
        "seed_data = [encode_keys[char]/(vocab_size - 1) for char in seed]\n",
        "for i in range(20):\n",
        "  predict_data = np.reshape(np.array(seed_data), (1, len(seed_data), 1))\n",
        "  prediction = vect_model.predict(predict_data)\n",
        "\n",
        "  index = np.argmax(prediction)\n",
        "  next_char = decode_keys[index]\n",
        "  result += next_char\n",
        "  print(\"NEXT\",index,next_char,sep=\"|\")\n",
        "\n",
        "  seed_data.append(encode_keys[char]/(vocab_size - 1))\n",
        "  if (len(seed_data) > seq_length):\n",
        "    seed_data = seed_data[1:] #Remove first element to move window along sequence\n",
        "\n",
        "  if ( (next_char == \" \")or(next_char == \"\\n\") ):\n",
        "    break\n",
        "\n",
        "print(result)"
      ]
    }
  ],
  "metadata": {
    "language_info": {
      "name": "python"
    },
    "colab": {
      "provenance": [],
      "gpuType": "T4"
    },
    "kernelspec": {
      "name": "python3",
      "display_name": "Python 3"
    },
    "accelerator": "GPU"
  },
  "nbformat": 4,
  "nbformat_minor": 0
}