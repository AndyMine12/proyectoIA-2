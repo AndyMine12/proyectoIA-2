{
  "cells": [
    {
      "cell_type": "markdown",
      "metadata": {
        "id": "FEW-SQZoCYbT"
      },
      "source": [
        "# Definición del problema"
      ]
    },
    {
      "cell_type": "markdown",
      "source": [
        "Se desea entrenar un modelo que sea capaz de 'completar' una palabra a medio escribir, o proponer una corrección para una palabra ya escrita en caso de que la misma se encuentre mal escrita.\n",
        "\n",
        "Se utilizará un algoritmo de 'hallar la palabra incorrecta' para determinar si una palabra está escrita incorrectamente, de acuerdo a un lexicón construido con palabras extraídas de la página web de la RAE (disponible en https://github.com/JorgeDuenasLerin/diccionario-espanol-txt, actualizado en Mayo 2024)\n",
        "\n",
        "Además, se construirá una matriz de probabilidad con las palabras extraídas para que las recomendaciones de completado y corrección se realicen en función de la frecuencia de utilización de las palabras. El sistema será capaz de realizar estas funciones en Español.\n",
        "\n",
        "Se utilizarán textos para entrenarlo."
      ],
      "metadata": {
        "id": "9FcXCHksCbGB"
      }
    },
    {
      "cell_type": "markdown",
      "metadata": {
        "id": "u0VZpRHJCYbX"
      },
      "source": [
        "# Estructura del modelo"
      ]
    },
    {
      "cell_type": "code",
      "execution_count": null,
      "metadata": {
        "vscode": {
          "languageId": "plaintext"
        },
        "id": "ou1izJryCYbY"
      },
      "outputs": [],
      "source": []
    },
    {
      "cell_type": "markdown",
      "metadata": {
        "id": "VIQTHR1LCYbZ"
      },
      "source": [
        "# Datos de entrada"
      ]
    },
    {
      "cell_type": "code",
      "execution_count": 13,
      "metadata": {
        "vscode": {
          "languageId": "plaintext"
        },
        "id": "NH6BNWm-CYbZ",
        "collapsed": true,
        "outputId": "99533f70-31f8-4ff9-b1fd-de514e08f83b",
        "colab": {
          "base_uri": "https://localhost:8080/"
        }
      },
      "outputs": [
        {
          "output_type": "stream",
          "name": "stdout",
          "text": [
            "14377\n"
          ]
        }
      ],
      "source": [
        "#Extrayendo el texto\n",
        "txt_file = \"text_dump.txt\"\n",
        "\n",
        "lines: list[str] = []\n",
        "# complete_text: str = \"\"\n",
        "with open(txt_file, \"r\") as file:\n",
        "  for line in file:\n",
        "    if line != \"\\n\":\n",
        "      lines.append(line)\n",
        "      # complete_text += line\n",
        "\n",
        "print(len(lines))\n",
        "# print(complete_text)"
      ]
    },
    {
      "cell_type": "code",
      "source": [
        "#Formando la data de entrada y salida esperada\n",
        "complete_text: str = \"\"\n",
        "\n",
        "for paragraph in lines[31 : 14346]:\n",
        "  complete_text += paragraph\n",
        "\n",
        "#Construyendo la data de input, output y conjunto de tokens\n",
        "encoder_tokens: dict[str, int] = dict()\n",
        "decoder_tokens: dict[str, int] = dict()\n",
        "input_chars: list[str] = []\n",
        "output_chars: list[str] = []\n",
        "\n",
        "\n",
        "# input_chars.append(complete_text[0])\n",
        "\n",
        "#Llenar los inputs y outputs de manera escalonada\n",
        "for i in range(0, len(complete_text) - 1):\n",
        "  input_char = complete_text[i]\n",
        "\n",
        "  input_chars.append(input_char)\n",
        "  output_chars.append(complete_text[i + 1])\n",
        "\n",
        "  if input_char not in encoder_tokens:\n",
        "    index = len(encoder_tokens)\n",
        "    encoder_tokens[input_char] = index\n",
        "    decoder_tokens[index] = input_char\n",
        "\n",
        "\n",
        "# index = 0\n",
        "# for pair in zip(input_chars, output_chars):\n",
        "#   print(pair)\n",
        "#   index += 1\n",
        "#   if index >= 100:\n",
        "#     break\n",
        "# for key, value in zip(encoder_tokens.keys(), encoder_tokens.values()):\n",
        "#   print(f\"Key: {key} | Value: {value}\")"
      ],
      "metadata": {
        "collapsed": true,
        "id": "rHfyF-Xmu0ur",
        "outputId": "ed0c0d3d-6c5c-4894-9fd6-2e70a4fd0f30",
        "colab": {
          "base_uri": "https://localhost:8080/"
        }
      },
      "execution_count": 26,
      "outputs": [
        {
          "output_type": "stream",
          "name": "stdout",
          "text": [
            "Key: K | Value: 0\n",
            "Key: a | Value: 1\n",
            "Key: l | Value: 2\n",
            "Key: k | Value: 3\n",
            "Key:   | Value: 4\n",
            "Key: r | Value: 5\n",
            "Key: o | Value: 6\n",
            "Key: d | Value: 7\n",
            "Key: e | Value: 8\n",
            "Key: ó | Value: 9\n",
            "Key: u | Value: 10\n",
            "Key: n | Value: 11\n",
            "Key: p | Value: 12\n",
            "Key: m | Value: 13\n",
            "Key: t | Value: 14\n",
            "Key: i | Value: 15\n",
            "Key: c | Value: 16\n",
            "Key: s | Value: 17\n",
            "Key: y | Value: 18\n",
            "Key: v | Value: 19\n",
            "Key: g | Value: 20\n",
            "Key: b | Value: 21\n",
            "Key: . | Value: 22\n",
            "Key: L | Value: 23\n",
            "Key: í | Value: 24\n",
            "Key: ; | Value: 25\n",
            "Key: h | Value: 26\n",
            "Key: , | Value: 27\n",
            "Key: f | Value: 28\n",
            "Key: q | Value: 29\n",
            "Key: é | Value: 30\n",
            "Key: j | Value: 31\n",
            "Key: P | Value: 32\n",
            "Key: \n",
            " | Value: 33\n",
            "Key: I | Value: 34\n",
            "Key: z | Value: 35\n",
            "Key: M | Value: 36\n",
            "Key: N | Value: 37\n",
            "Key: R | Value: 38\n",
            "Key: á | Value: 39\n",
            "Key: A | Value: 40\n",
            "Key: C | Value: 41\n",
            "Key: x | Value: 42\n",
            "Key: ñ | Value: 43\n",
            "Key: S | Value: 44\n",
            "Key: G | Value: 45\n",
            "Key: E | Value: 46\n",
            "Key: « | Value: 47\n",
            "Key: » | Value: 48\n",
            "Key: D | Value: 49\n",
            "Key: ¿ | Value: 50\n",
            "Key: Y | Value: 51\n",
            "Key: … | Value: 52\n",
            "Key: ? | Value: 53\n",
            "Key: J | Value: 54\n",
            "Key: H | Value: 55\n",
            "Key: ú | Value: 56\n",
            "Key: — | Value: 57\n",
            "Key: Q | Value: 58\n",
            "Key: T | Value: 59\n",
            "Key: ¡ | Value: 60\n",
            "Key: ! | Value: 61\n",
            "Key: U | Value: 62\n",
            "Key: B | Value: 63\n",
            "Key: F | Value: 64\n",
            "Key: O | Value: 65\n",
            "Key: 1 | Value: 66\n",
            "Key: 7 | Value: 67\n",
            "Key: - | Value: 68\n",
            "Key: V | Value: 69\n",
            "Key: : | Value: 70\n",
            "Key: ( | Value: 71\n",
            "Key: ) | Value: 72\n",
            "Key: Ñ | Value: 73\n",
            "Key: Á | Value: 74\n",
            "Key: É | Value: 75\n",
            "Key: w | Value: 76\n",
            "Key: ü | Value: 77\n",
            "Key: 4 | Value: 78\n",
            "Key: 3 | Value: 79\n",
            "Key: 2 | Value: 80\n",
            "Key: 5 | Value: 81\n",
            "Key: ’ | Value: 82\n",
            "Key: Ú | Value: 83\n",
            "Key: 8 | Value: 84\n",
            "Key: W | Value: 85\n",
            "Key: Z | Value: 86\n",
            "Key: “ | Value: 87\n",
            "Key: ” | Value: 88\n",
            "Key: X | Value: 89\n",
            "Key: Í | Value: 90\n",
            "Key: 0 | Value: 91\n",
            "Key: ö | Value: 92\n",
            "Key: 9 | Value: 93\n",
            "Key: 6 | Value: 94\n",
            "Key: Ó | Value: 95\n",
            "Key: / | Value: 96\n"
          ]
        }
      ]
    },
    {
      "cell_type": "markdown",
      "metadata": {
        "id": "8irePKGLCYba"
      },
      "source": [
        "# Entrenamiento del modelo"
      ]
    },
    {
      "cell_type": "code",
      "execution_count": null,
      "metadata": {
        "vscode": {
          "languageId": "plaintext"
        },
        "id": "HQGYvECKCYba"
      },
      "outputs": [],
      "source": []
    },
    {
      "cell_type": "markdown",
      "metadata": {
        "id": "QD6SIafXCYbb"
      },
      "source": [
        "# Evaluación"
      ]
    },
    {
      "cell_type": "code",
      "execution_count": null,
      "metadata": {
        "vscode": {
          "languageId": "plaintext"
        },
        "id": "z7UV-B3eCYbb"
      },
      "outputs": [],
      "source": []
    }
  ],
  "metadata": {
    "language_info": {
      "name": "python"
    },
    "colab": {
      "provenance": []
    },
    "kernelspec": {
      "name": "python3",
      "display_name": "Python 3"
    }
  },
  "nbformat": 4,
  "nbformat_minor": 0
}