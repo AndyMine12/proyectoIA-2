{
  "cells": [
    {
      "cell_type": "markdown",
      "metadata": {
        "id": "FEW-SQZoCYbT"
      },
      "source": [
        "# Definición del problema"
      ]
    },
    {
      "cell_type": "markdown",
      "source": [
        "Se desea entrenar un modelo que sea capaz de 'completar' una frase a medio escribir mediante generación del siguiente caracter en la secuencia.\n",
        "\n",
        "El sistema será capaz de realizar estas funciones en Español.\n",
        "Será entrenado a partir de una versión reducida del Principito, donde se eliminaron los acentos y se sustituyó 'ñ' por 'n' para reducir el vocabulario.\n",
        "\n",
        "El modelo deberá inferir el siguiente caracter a partir de estudiar la distribución de probabilidad presente en el texto."
      ],
      "metadata": {
        "id": "9FcXCHksCbGB"
      }
    },
    {
      "cell_type": "markdown",
      "metadata": {
        "id": "u0VZpRHJCYbX"
      },
      "source": [
        "# Estructura del modelo"
      ]
    },
    {
      "cell_type": "markdown",
      "source": [
        "Se utilizará un modelo con una capa LSTM de 256 neuronas y Dropout de 0.2; seguida de una capa densa que permita analizar el resultado y generar una distribución de probabilidad del caracter siguiente a través de activación Softmax\n",
        "\n",
        "Será optimizada mediante entropía cruzada como función de pérdida y rmsprop como algoritmo de optimización."
      ],
      "metadata": {
        "id": "UDxIuu-p1uUJ"
      }
    },
    {
      "cell_type": "markdown",
      "source": [
        "# Importacion de Librerias"
      ],
      "metadata": {
        "id": "Zxrx98HjngrH"
      }
    },
    {
      "cell_type": "code",
      "source": [
        "import numpy as np\n",
        "\n",
        "import keras as kr\n",
        "from keras.models import Sequential\n",
        "from keras.layers import Dense, LSTM, Dropout"
      ],
      "metadata": {
        "id": "R0_I7z3pnlT9"
      },
      "execution_count": 1,
      "outputs": []
    },
    {
      "cell_type": "markdown",
      "metadata": {
        "id": "VIQTHR1LCYbZ"
      },
      "source": [
        "# Datos de entrada"
      ]
    },
    {
      "cell_type": "code",
      "execution_count": 2,
      "metadata": {
        "vscode": {
          "languageId": "plaintext"
        },
        "id": "NH6BNWm-CYbZ",
        "colab": {
          "base_uri": "https://localhost:8080/"
        },
        "outputId": "eb6e433e-68f8-4ef3-f1bf-11842f55ac0a"
      },
      "outputs": [
        {
          "output_type": "stream",
          "name": "stdout",
          "text": [
            "Total line count: 1\n",
            "Total character count: 74156\n"
          ]
        }
      ],
      "source": [
        "# Extract text from Spanish book converted into txt format\n",
        "txt_file = \"sanitized_text_dump.txt\"\n",
        "\n",
        "lines: list[str] = []\n",
        "with open(txt_file, 'r', encoding=\"UTF-8\") as file:\n",
        "  for line in file:\n",
        "    if line != \"\\n\": #Do not include empty lines in text digest\n",
        "      lines.append(line)\n",
        "\n",
        "#As of this point, 'lines' variable should hold the full length of the txt file\n",
        "print(\"Total line count:\", len(lines))\n",
        "print(\"Total character count:\", sum([len(item) for item in lines]))"
      ]
    },
    {
      "cell_type": "code",
      "source": [
        "# Extract used vocabulary and construct encode/decode dictionaries\n",
        "full_txt_str: str = \"\"\n",
        "vocab: list[str] = []\n",
        "acc = 0 #Used to print partial progress of the operation\n",
        "big_acc = 1 #Same as above\n",
        "for paragraph in lines: #Do not consider index, acknowledgements, appendix, etc etc (i.e. only consider main story block for training)\n",
        "  full_txt_str += paragraph\n",
        "  for char in paragraph:\n",
        "    if char not in vocab:\n",
        "      vocab.append(char)\n",
        "  #Print partial progress\n",
        "  acc += 1\n",
        "  if (acc >= (14346-31)*0.2):\n",
        "    print(f\"Vocabulary {20*big_acc}% built\")\n",
        "    acc = 0\n",
        "    big_acc += 1\n",
        "vocab.sort()\n",
        "vocab_size = len(vocab)\n",
        "\n",
        "encode_keys:dict[str,int] = {}\n",
        "decode_keys: dict[int, str] = {}\n",
        "for index, char in enumerate(vocab):\n",
        "  encode_keys[char] = index\n",
        "  decode_keys[index] = char\n",
        "\n",
        "#As of this point, the full vocabulary should be indexed\n",
        "print(\"Total unique characters:\", vocab_size)\n",
        "print(\"Total encode/decode dictionary keys:\", len(encode_keys.keys()),\"|\", len(decode_keys.keys()))\n",
        "print(\"Key list\\n\",encode_keys.keys())"
      ],
      "metadata": {
        "colab": {
          "base_uri": "https://localhost:8080/"
        },
        "id": "TzR18gLGE5B0",
        "outputId": "b635678e-cd80-4070-82ff-6f9fb28908f0"
      },
      "execution_count": 3,
      "outputs": [
        {
          "output_type": "stream",
          "name": "stdout",
          "text": [
            "Total unique characters: 25\n",
            "Total encode/decode dictionary keys: 25 | 25\n",
            "Key list\n",
            " dict_keys([' ', 'a', 'b', 'c', 'd', 'e', 'f', 'g', 'h', 'i', 'j', 'l', 'm', 'n', 'o', 'p', 'q', 'r', 's', 't', 'u', 'v', 'x', 'y', 'z'])\n"
          ]
        }
      ]
    },
    {
      "cell_type": "code",
      "source": [
        "# Construct input/output data for LSTM network\n",
        "seq_length = 50\n",
        "input_seqs: list[list[float]] = []\n",
        "output_seqs: list[float] = []\n",
        "acc = 0 #Used to print partial progress of the operation\n",
        "big_acc = 1 #Same as above\n",
        "\n",
        "current:list[float] = []\n",
        "for char in full_txt_str:\n",
        "  if (len(current) >= seq_length):\n",
        "    input_seqs.append(current.copy())\n",
        "    output_seqs.append(encode_keys[char])\n",
        "    current = current[1:] #Remove first element\n",
        "  current.append(encode_keys[char])\n",
        "  #Print partial progress\n",
        "  acc += 1\n",
        "  if (acc >= len(full_txt_str)*0.2):\n",
        "    print(f\"IO data {20*big_acc}% built\")\n",
        "    acc = 0\n",
        "    big_acc += 1\n",
        "\n",
        "#Normalize input sequences\n",
        "normal_input_seqs: list[list[float]] = []\n",
        "for row in input_seqs:\n",
        "  normal_input_seqs.append([item/(vocab_size - 1) for item in row])\n",
        "print(\"Data normalization done\")\n",
        "\n",
        "#Construct arrays from data used\n",
        "train_data: np.ndarray = np.array([np.array(row) for row in normal_input_seqs])\n",
        "train_tags: np.ndarray = np.array([np.zeros(vocab_size) for item in output_seqs])\n",
        "for index, value in enumerate(output_seqs):\n",
        "  train_tags[index][value] = 1.0\n",
        "\n",
        "#As of this point, the full set of training data has been built\n",
        "print(\"Train shape:\", train_data.shape)\n",
        "print(\"Tags shape:\", train_tags.shape)\n",
        "print(\"First 20 steps\")\n",
        "acc = 0\n",
        "for data,tag in zip(train_data, train_tags):\n",
        "  print(acc+1)\n",
        "  print(data)\n",
        "  print(tag)\n",
        "  acc += 1\n",
        "  if (acc >= 20):\n",
        "    break"
      ],
      "metadata": {
        "colab": {
          "base_uri": "https://localhost:8080/"
        },
        "collapsed": true,
        "id": "w3qZR9S7khoH",
        "outputId": "9c1138c7-836d-45a4-dcd9-b8d7509afc7f"
      },
      "execution_count": 4,
      "outputs": [
        {
          "output_type": "stream",
          "name": "stdout",
          "text": [
            "IO data 20% built\n",
            "IO data 40% built\n",
            "IO data 60% built\n",
            "IO data 80% built\n",
            "Data normalization done\n",
            "Train shape: (74106, 50)\n",
            "Tags shape: (74106, 25)\n",
            "First 20 steps\n",
            "1\n",
            "[0.125      0.83333333 0.04166667 0.54166667 0.16666667 0.58333333\n",
            " 0.         0.20833333 0.70833333 0.04166667 0.         0.54166667\n",
            " 0.375      0.54166667 0.58333333 0.         0.         0.125\n",
            " 0.83333333 0.04166667 0.54166667 0.16666667 0.58333333 0.\n",
            " 0.95833333 0.58333333 0.         0.79166667 0.20833333 0.54166667\n",
            " 0.375      0.04166667 0.         0.75       0.20833333 0.375\n",
            " 0.75       0.         0.04166667 0.54166667 0.58333333 0.75\n",
            " 0.         0.875      0.375      0.         0.20833333 0.54166667\n",
            " 0.         0.83333333]\n",
            "[0. 0. 0. 0. 0. 0. 0. 0. 0. 0. 0. 0. 0. 1. 0. 0. 0. 0. 0. 0. 0. 0. 0. 0.\n",
            " 0.]\n",
            "2\n",
            "[0.83333333 0.04166667 0.54166667 0.16666667 0.58333333 0.\n",
            " 0.20833333 0.70833333 0.04166667 0.         0.54166667 0.375\n",
            " 0.54166667 0.58333333 0.         0.         0.125      0.83333333\n",
            " 0.04166667 0.54166667 0.16666667 0.58333333 0.         0.95833333\n",
            " 0.58333333 0.         0.79166667 0.20833333 0.54166667 0.375\n",
            " 0.04166667 0.         0.75       0.20833333 0.375      0.75\n",
            " 0.         0.04166667 0.54166667 0.58333333 0.75       0.\n",
            " 0.875      0.375      0.         0.20833333 0.54166667 0.\n",
            " 0.83333333 0.54166667]\n",
            "[1. 0. 0. 0. 0. 0. 0. 0. 0. 0. 0. 0. 0. 0. 0. 0. 0. 0. 0. 0. 0. 0. 0. 0.\n",
            " 0.]\n",
            "3\n",
            "[0.04166667 0.54166667 0.16666667 0.58333333 0.         0.20833333\n",
            " 0.70833333 0.04166667 0.         0.54166667 0.375      0.54166667\n",
            " 0.58333333 0.         0.         0.125      0.83333333 0.04166667\n",
            " 0.54166667 0.16666667 0.58333333 0.         0.95833333 0.58333333\n",
            " 0.         0.79166667 0.20833333 0.54166667 0.375      0.04166667\n",
            " 0.         0.75       0.20833333 0.375      0.75       0.\n",
            " 0.04166667 0.54166667 0.58333333 0.75       0.         0.875\n",
            " 0.375      0.         0.20833333 0.54166667 0.         0.83333333\n",
            " 0.54166667 0.        ]\n",
            "[0. 0. 0. 0. 0. 0. 0. 0. 0. 0. 0. 1. 0. 0. 0. 0. 0. 0. 0. 0. 0. 0. 0. 0.\n",
            " 0.]\n",
            "4\n",
            "[0.54166667 0.16666667 0.58333333 0.         0.20833333 0.70833333\n",
            " 0.04166667 0.         0.54166667 0.375      0.54166667 0.58333333\n",
            " 0.         0.         0.125      0.83333333 0.04166667 0.54166667\n",
            " 0.16666667 0.58333333 0.         0.95833333 0.58333333 0.\n",
            " 0.79166667 0.20833333 0.54166667 0.375      0.04166667 0.\n",
            " 0.75       0.20833333 0.375      0.75       0.         0.04166667\n",
            " 0.54166667 0.58333333 0.75       0.         0.875      0.375\n",
            " 0.         0.20833333 0.54166667 0.         0.83333333 0.54166667\n",
            " 0.         0.45833333]\n",
            "[0. 0. 0. 0. 0. 0. 0. 0. 0. 1. 0. 0. 0. 0. 0. 0. 0. 0. 0. 0. 0. 0. 0. 0.\n",
            " 0.]\n",
            "5\n",
            "[0.16666667 0.58333333 0.         0.20833333 0.70833333 0.04166667\n",
            " 0.         0.54166667 0.375      0.54166667 0.58333333 0.\n",
            " 0.         0.125      0.83333333 0.04166667 0.54166667 0.16666667\n",
            " 0.58333333 0.         0.95833333 0.58333333 0.         0.79166667\n",
            " 0.20833333 0.54166667 0.375      0.04166667 0.         0.75\n",
            " 0.20833333 0.375      0.75       0.         0.04166667 0.54166667\n",
            " 0.58333333 0.75       0.         0.875      0.375      0.\n",
            " 0.20833333 0.54166667 0.         0.83333333 0.54166667 0.\n",
            " 0.45833333 0.375     ]\n",
            "[0. 0. 1. 0. 0. 0. 0. 0. 0. 0. 0. 0. 0. 0. 0. 0. 0. 0. 0. 0. 0. 0. 0. 0.\n",
            " 0.]\n",
            "6\n",
            "[0.58333333 0.         0.20833333 0.70833333 0.04166667 0.\n",
            " 0.54166667 0.375      0.54166667 0.58333333 0.         0.\n",
            " 0.125      0.83333333 0.04166667 0.54166667 0.16666667 0.58333333\n",
            " 0.         0.95833333 0.58333333 0.         0.79166667 0.20833333\n",
            " 0.54166667 0.375      0.04166667 0.         0.75       0.20833333\n",
            " 0.375      0.75       0.         0.04166667 0.54166667 0.58333333\n",
            " 0.75       0.         0.875      0.375      0.         0.20833333\n",
            " 0.54166667 0.         0.83333333 0.54166667 0.         0.45833333\n",
            " 0.375      0.08333333]\n",
            "[0. 0. 0. 0. 0. 0. 0. 0. 0. 0. 0. 0. 0. 0. 0. 0. 0. 1. 0. 0. 0. 0. 0. 0.\n",
            " 0.]\n",
            "7\n",
            "[0.         0.20833333 0.70833333 0.04166667 0.         0.54166667\n",
            " 0.375      0.54166667 0.58333333 0.         0.         0.125\n",
            " 0.83333333 0.04166667 0.54166667 0.16666667 0.58333333 0.\n",
            " 0.95833333 0.58333333 0.         0.79166667 0.20833333 0.54166667\n",
            " 0.375      0.04166667 0.         0.75       0.20833333 0.375\n",
            " 0.75       0.         0.04166667 0.54166667 0.58333333 0.75\n",
            " 0.         0.875      0.375      0.         0.20833333 0.54166667\n",
            " 0.         0.83333333 0.54166667 0.         0.45833333 0.375\n",
            " 0.08333333 0.70833333]\n",
            "[0. 0. 0. 0. 0. 0. 0. 0. 0. 0. 0. 0. 0. 0. 1. 0. 0. 0. 0. 0. 0. 0. 0. 0.\n",
            " 0.]\n",
            "8\n",
            "[0.20833333 0.70833333 0.04166667 0.         0.54166667 0.375\n",
            " 0.54166667 0.58333333 0.         0.         0.125      0.83333333\n",
            " 0.04166667 0.54166667 0.16666667 0.58333333 0.         0.95833333\n",
            " 0.58333333 0.         0.79166667 0.20833333 0.54166667 0.375\n",
            " 0.04166667 0.         0.75       0.20833333 0.375      0.75\n",
            " 0.         0.04166667 0.54166667 0.58333333 0.75       0.\n",
            " 0.875      0.375      0.         0.20833333 0.54166667 0.\n",
            " 0.83333333 0.54166667 0.         0.45833333 0.375      0.08333333\n",
            " 0.70833333 0.58333333]\n",
            "[1. 0. 0. 0. 0. 0. 0. 0. 0. 0. 0. 0. 0. 0. 0. 0. 0. 0. 0. 0. 0. 0. 0. 0.\n",
            " 0.]\n",
            "9\n",
            "[0.70833333 0.04166667 0.         0.54166667 0.375      0.54166667\n",
            " 0.58333333 0.         0.         0.125      0.83333333 0.04166667\n",
            " 0.54166667 0.16666667 0.58333333 0.         0.95833333 0.58333333\n",
            " 0.         0.79166667 0.20833333 0.54166667 0.375      0.04166667\n",
            " 0.         0.75       0.20833333 0.375      0.75       0.\n",
            " 0.04166667 0.54166667 0.58333333 0.75       0.         0.875\n",
            " 0.375      0.         0.20833333 0.54166667 0.         0.83333333\n",
            " 0.54166667 0.         0.45833333 0.375      0.08333333 0.70833333\n",
            " 0.58333333 0.        ]\n",
            "[0. 0. 0. 0. 0. 0. 0. 0. 0. 0. 0. 0. 0. 0. 0. 0. 0. 0. 1. 0. 0. 0. 0. 0.\n",
            " 0.]\n",
            "10\n",
            "[0.04166667 0.         0.54166667 0.375      0.54166667 0.58333333\n",
            " 0.         0.         0.125      0.83333333 0.04166667 0.54166667\n",
            " 0.16666667 0.58333333 0.         0.95833333 0.58333333 0.\n",
            " 0.79166667 0.20833333 0.54166667 0.375      0.04166667 0.\n",
            " 0.75       0.20833333 0.375      0.75       0.         0.04166667\n",
            " 0.54166667 0.58333333 0.75       0.         0.875      0.375\n",
            " 0.         0.20833333 0.54166667 0.         0.83333333 0.54166667\n",
            " 0.         0.45833333 0.375      0.08333333 0.70833333 0.58333333\n",
            " 0.         0.75      ]\n",
            "[0. 0. 0. 0. 0. 0. 0. 0. 0. 0. 0. 0. 0. 0. 1. 0. 0. 0. 0. 0. 0. 0. 0. 0.\n",
            " 0.]\n",
            "11\n",
            "[0.         0.54166667 0.375      0.54166667 0.58333333 0.\n",
            " 0.         0.125      0.83333333 0.04166667 0.54166667 0.16666667\n",
            " 0.58333333 0.         0.95833333 0.58333333 0.         0.79166667\n",
            " 0.20833333 0.54166667 0.375      0.04166667 0.         0.75\n",
            " 0.20833333 0.375      0.75       0.         0.04166667 0.54166667\n",
            " 0.58333333 0.75       0.         0.875      0.375      0.\n",
            " 0.20833333 0.54166667 0.         0.83333333 0.54166667 0.\n",
            " 0.45833333 0.375      0.08333333 0.70833333 0.58333333 0.\n",
            " 0.75       0.58333333]\n",
            "[0. 0. 1. 0. 0. 0. 0. 0. 0. 0. 0. 0. 0. 0. 0. 0. 0. 0. 0. 0. 0. 0. 0. 0.\n",
            " 0.]\n",
            "12\n",
            "[0.54166667 0.375      0.54166667 0.58333333 0.         0.\n",
            " 0.125      0.83333333 0.04166667 0.54166667 0.16666667 0.58333333\n",
            " 0.         0.95833333 0.58333333 0.         0.79166667 0.20833333\n",
            " 0.54166667 0.375      0.04166667 0.         0.75       0.20833333\n",
            " 0.375      0.75       0.         0.04166667 0.54166667 0.58333333\n",
            " 0.75       0.         0.875      0.375      0.         0.20833333\n",
            " 0.54166667 0.         0.83333333 0.54166667 0.         0.45833333\n",
            " 0.375      0.08333333 0.70833333 0.58333333 0.         0.75\n",
            " 0.58333333 0.08333333]\n",
            "[0. 0. 0. 0. 0. 0. 0. 0. 0. 0. 0. 0. 0. 0. 0. 0. 0. 1. 0. 0. 0. 0. 0. 0.\n",
            " 0.]\n",
            "13\n",
            "[0.375      0.54166667 0.58333333 0.         0.         0.125\n",
            " 0.83333333 0.04166667 0.54166667 0.16666667 0.58333333 0.\n",
            " 0.95833333 0.58333333 0.         0.79166667 0.20833333 0.54166667\n",
            " 0.375      0.04166667 0.         0.75       0.20833333 0.375\n",
            " 0.75       0.         0.04166667 0.54166667 0.58333333 0.75\n",
            " 0.         0.875      0.375      0.         0.20833333 0.54166667\n",
            " 0.         0.83333333 0.54166667 0.         0.45833333 0.375\n",
            " 0.08333333 0.70833333 0.58333333 0.         0.75       0.58333333\n",
            " 0.08333333 0.70833333]\n",
            "[0. 0. 0. 0. 0. 1. 0. 0. 0. 0. 0. 0. 0. 0. 0. 0. 0. 0. 0. 0. 0. 0. 0. 0.\n",
            " 0.]\n",
            "14\n",
            "[0.54166667 0.58333333 0.         0.         0.125      0.83333333\n",
            " 0.04166667 0.54166667 0.16666667 0.58333333 0.         0.95833333\n",
            " 0.58333333 0.         0.79166667 0.20833333 0.54166667 0.375\n",
            " 0.04166667 0.         0.75       0.20833333 0.375      0.75\n",
            " 0.         0.04166667 0.54166667 0.58333333 0.75       0.\n",
            " 0.875      0.375      0.         0.20833333 0.54166667 0.\n",
            " 0.83333333 0.54166667 0.         0.45833333 0.375      0.08333333\n",
            " 0.70833333 0.58333333 0.         0.75       0.58333333 0.08333333\n",
            " 0.70833333 0.20833333]\n",
            "[1. 0. 0. 0. 0. 0. 0. 0. 0. 0. 0. 0. 0. 0. 0. 0. 0. 0. 0. 0. 0. 0. 0. 0.\n",
            " 0.]\n",
            "15\n",
            "[0.58333333 0.         0.         0.125      0.83333333 0.04166667\n",
            " 0.54166667 0.16666667 0.58333333 0.         0.95833333 0.58333333\n",
            " 0.         0.79166667 0.20833333 0.54166667 0.375      0.04166667\n",
            " 0.         0.75       0.20833333 0.375      0.75       0.\n",
            " 0.04166667 0.54166667 0.58333333 0.75       0.         0.875\n",
            " 0.375      0.         0.20833333 0.54166667 0.         0.83333333\n",
            " 0.54166667 0.         0.45833333 0.375      0.08333333 0.70833333\n",
            " 0.58333333 0.         0.75       0.58333333 0.08333333 0.70833333\n",
            " 0.20833333 0.        ]\n",
            "[0. 0. 0. 0. 0. 0. 0. 0. 0. 0. 0. 1. 0. 0. 0. 0. 0. 0. 0. 0. 0. 0. 0. 0.\n",
            " 0.]\n",
            "16\n",
            "[0.         0.         0.125      0.83333333 0.04166667 0.54166667\n",
            " 0.16666667 0.58333333 0.         0.95833333 0.58333333 0.\n",
            " 0.79166667 0.20833333 0.54166667 0.375      0.04166667 0.\n",
            " 0.75       0.20833333 0.375      0.75       0.         0.04166667\n",
            " 0.54166667 0.58333333 0.75       0.         0.875      0.375\n",
            " 0.         0.20833333 0.54166667 0.         0.83333333 0.54166667\n",
            " 0.         0.45833333 0.375      0.08333333 0.70833333 0.58333333\n",
            " 0.         0.75       0.58333333 0.08333333 0.70833333 0.20833333\n",
            " 0.         0.45833333]\n",
            "[0. 1. 0. 0. 0. 0. 0. 0. 0. 0. 0. 0. 0. 0. 0. 0. 0. 0. 0. 0. 0. 0. 0. 0.\n",
            " 0.]\n",
            "17\n",
            "[0.         0.125      0.83333333 0.04166667 0.54166667 0.16666667\n",
            " 0.58333333 0.         0.95833333 0.58333333 0.         0.79166667\n",
            " 0.20833333 0.54166667 0.375      0.04166667 0.         0.75\n",
            " 0.20833333 0.375      0.75       0.         0.04166667 0.54166667\n",
            " 0.58333333 0.75       0.         0.875      0.375      0.\n",
            " 0.20833333 0.54166667 0.         0.83333333 0.54166667 0.\n",
            " 0.45833333 0.375      0.08333333 0.70833333 0.58333333 0.\n",
            " 0.75       0.58333333 0.08333333 0.70833333 0.20833333 0.\n",
            " 0.45833333 0.04166667]\n",
            "[1. 0. 0. 0. 0. 0. 0. 0. 0. 0. 0. 0. 0. 0. 0. 0. 0. 0. 0. 0. 0. 0. 0. 0.\n",
            " 0.]\n",
            "18\n",
            "[0.125      0.83333333 0.04166667 0.54166667 0.16666667 0.58333333\n",
            " 0.         0.95833333 0.58333333 0.         0.79166667 0.20833333\n",
            " 0.54166667 0.375      0.04166667 0.         0.75       0.20833333\n",
            " 0.375      0.75       0.         0.04166667 0.54166667 0.58333333\n",
            " 0.75       0.         0.875      0.375      0.         0.20833333\n",
            " 0.54166667 0.         0.83333333 0.54166667 0.         0.45833333\n",
            " 0.375      0.08333333 0.70833333 0.58333333 0.         0.75\n",
            " 0.58333333 0.08333333 0.70833333 0.20833333 0.         0.45833333\n",
            " 0.04166667 0.        ]\n",
            "[0. 0. 0. 0. 0. 0. 0. 0. 0. 0. 0. 0. 0. 0. 0. 0. 0. 0. 1. 0. 0. 0. 0. 0.\n",
            " 0.]\n",
            "19\n",
            "[0.83333333 0.04166667 0.54166667 0.16666667 0.58333333 0.\n",
            " 0.95833333 0.58333333 0.         0.79166667 0.20833333 0.54166667\n",
            " 0.375      0.04166667 0.         0.75       0.20833333 0.375\n",
            " 0.75       0.         0.04166667 0.54166667 0.58333333 0.75\n",
            " 0.         0.875      0.375      0.         0.20833333 0.54166667\n",
            " 0.         0.83333333 0.54166667 0.         0.45833333 0.375\n",
            " 0.08333333 0.70833333 0.58333333 0.         0.75       0.58333333\n",
            " 0.08333333 0.70833333 0.20833333 0.         0.45833333 0.04166667\n",
            " 0.         0.75      ]\n",
            "[0. 0. 0. 0. 0. 1. 0. 0. 0. 0. 0. 0. 0. 0. 0. 0. 0. 0. 0. 0. 0. 0. 0. 0.\n",
            " 0.]\n",
            "20\n",
            "[0.04166667 0.54166667 0.16666667 0.58333333 0.         0.95833333\n",
            " 0.58333333 0.         0.79166667 0.20833333 0.54166667 0.375\n",
            " 0.04166667 0.         0.75       0.20833333 0.375      0.75\n",
            " 0.         0.04166667 0.54166667 0.58333333 0.75       0.\n",
            " 0.875      0.375      0.         0.20833333 0.54166667 0.\n",
            " 0.83333333 0.54166667 0.         0.45833333 0.375      0.08333333\n",
            " 0.70833333 0.58333333 0.         0.75       0.58333333 0.08333333\n",
            " 0.70833333 0.20833333 0.         0.45833333 0.04166667 0.\n",
            " 0.75       0.20833333]\n",
            "[0. 0. 0. 0. 0. 0. 0. 0. 0. 0. 0. 1. 0. 0. 0. 0. 0. 0. 0. 0. 0. 0. 0. 0.\n",
            " 0.]\n"
          ]
        }
      ]
    },
    {
      "cell_type": "markdown",
      "source": [
        "# Construcción del modelo"
      ],
      "metadata": {
        "id": "OPUwYDmX97It"
      }
    },
    {
      "cell_type": "code",
      "source": [
        "filename = \"savestate.keras\"\n",
        "isNew = True\n",
        "\n",
        "vect_model = None\n",
        "if (isNew):\n",
        "  vect_model = Sequential()\n",
        "  vect_model.add(kr.Input(shape=(seq_length,1)))\n",
        "  vect_model.add(LSTM(256, return_sequences=True)) #Add dropout?\n",
        "  vect_model.add(Dropout(0.2))\n",
        "  vect_model.add(LSTM(256)) #Add dropout?\n",
        "  vect_model.add(Dropout(0.2))\n",
        "  vect_model.add(Dense(vocab_size, activation=\"softmax\"))\n",
        "  vect_model.compile(loss=\"categorical_crossentropy\",optimizer=\"rmsprop\")\n",
        "else:\n",
        "  kr.models.load_model(filename)"
      ],
      "metadata": {
        "id": "uBjJAtCr996s"
      },
      "execution_count": 6,
      "outputs": []
    },
    {
      "cell_type": "markdown",
      "metadata": {
        "id": "8irePKGLCYba"
      },
      "source": [
        "# Entrenamiento del modelo"
      ]
    },
    {
      "cell_type": "code",
      "source": [
        "#Initialize epoch count for savestates' filenames\n",
        "epoch_ct:int = 0"
      ],
      "metadata": {
        "id": "uClapdlqfhoq"
      },
      "execution_count": 7,
      "outputs": []
    },
    {
      "cell_type": "code",
      "source": [
        "#Master flag to define if the model should be trained\n",
        "doTrain:bool = True\n",
        "train_length:int = 5 #Epoch duration of the training\n",
        "\n",
        "if (doTrain):\n",
        "  predict = vect_model.fit(train_data, train_tags, batch_size = 64,epochs = train_length)\n",
        "  epoch_ct += train_length\n",
        "  state_filename = \"sanitized_state_\" + str(epoch_ct) + \"_2LSTM.keras\"\n",
        "  vect_model.save(state_filename)"
      ],
      "metadata": {
        "colab": {
          "base_uri": "https://localhost:8080/",
          "height": 391
        },
        "id": "62DcwYfoECfY",
        "outputId": "977009ee-813e-43e4-ebec-08390d72df3c",
        "collapsed": true
      },
      "execution_count": 9,
      "outputs": [
        {
          "output_type": "stream",
          "name": "stdout",
          "text": [
            "Epoch 1/5\n",
            "\u001b[1m  98/1158\u001b[0m \u001b[32m━\u001b[0m\u001b[37m━━━━━━━━━━━━━━━━━━━\u001b[0m \u001b[1m8:17\u001b[0m 470ms/step - loss: 2.8637"
          ]
        },
        {
          "output_type": "error",
          "ename": "KeyboardInterrupt",
          "evalue": "",
          "traceback": [
            "\u001b[0;31m---------------------------------------------------------------------------\u001b[0m",
            "\u001b[0;31mKeyboardInterrupt\u001b[0m                         Traceback (most recent call last)",
            "\u001b[0;32m<ipython-input-9-61e73f511ac1>\u001b[0m in \u001b[0;36m<cell line: 5>\u001b[0;34m()\u001b[0m\n\u001b[1;32m      4\u001b[0m \u001b[0;34m\u001b[0m\u001b[0m\n\u001b[1;32m      5\u001b[0m \u001b[0;32mif\u001b[0m \u001b[0;34m(\u001b[0m\u001b[0mdoTrain\u001b[0m\u001b[0;34m)\u001b[0m\u001b[0;34m:\u001b[0m\u001b[0;34m\u001b[0m\u001b[0;34m\u001b[0m\u001b[0m\n\u001b[0;32m----> 6\u001b[0;31m   \u001b[0mpredict\u001b[0m \u001b[0;34m=\u001b[0m \u001b[0mvect_model\u001b[0m\u001b[0;34m.\u001b[0m\u001b[0mfit\u001b[0m\u001b[0;34m(\u001b[0m\u001b[0mtrain_data\u001b[0m\u001b[0;34m,\u001b[0m \u001b[0mtrain_tags\u001b[0m\u001b[0;34m,\u001b[0m \u001b[0mbatch_size\u001b[0m \u001b[0;34m=\u001b[0m \u001b[0;36m64\u001b[0m\u001b[0;34m,\u001b[0m\u001b[0mepochs\u001b[0m \u001b[0;34m=\u001b[0m \u001b[0mtrain_length\u001b[0m\u001b[0;34m)\u001b[0m\u001b[0;34m\u001b[0m\u001b[0;34m\u001b[0m\u001b[0m\n\u001b[0m\u001b[1;32m      7\u001b[0m   \u001b[0mepoch_ct\u001b[0m \u001b[0;34m+=\u001b[0m \u001b[0mtrain_length\u001b[0m\u001b[0;34m\u001b[0m\u001b[0;34m\u001b[0m\u001b[0m\n\u001b[1;32m      8\u001b[0m   \u001b[0mstate_filename\u001b[0m \u001b[0;34m=\u001b[0m \u001b[0;34m\"sanitized_state_\"\u001b[0m \u001b[0;34m+\u001b[0m \u001b[0mstr\u001b[0m\u001b[0;34m(\u001b[0m\u001b[0mepoch_ct\u001b[0m\u001b[0;34m)\u001b[0m \u001b[0;34m+\u001b[0m \u001b[0;34m\"_28Nov.keras\"\u001b[0m\u001b[0;34m\u001b[0m\u001b[0;34m\u001b[0m\u001b[0m\n",
            "\u001b[0;32m/usr/local/lib/python3.10/dist-packages/keras/src/utils/traceback_utils.py\u001b[0m in \u001b[0;36merror_handler\u001b[0;34m(*args, **kwargs)\u001b[0m\n\u001b[1;32m    115\u001b[0m         \u001b[0mfiltered_tb\u001b[0m \u001b[0;34m=\u001b[0m \u001b[0;32mNone\u001b[0m\u001b[0;34m\u001b[0m\u001b[0;34m\u001b[0m\u001b[0m\n\u001b[1;32m    116\u001b[0m         \u001b[0;32mtry\u001b[0m\u001b[0;34m:\u001b[0m\u001b[0;34m\u001b[0m\u001b[0;34m\u001b[0m\u001b[0m\n\u001b[0;32m--> 117\u001b[0;31m             \u001b[0;32mreturn\u001b[0m \u001b[0mfn\u001b[0m\u001b[0;34m(\u001b[0m\u001b[0;34m*\u001b[0m\u001b[0margs\u001b[0m\u001b[0;34m,\u001b[0m \u001b[0;34m**\u001b[0m\u001b[0mkwargs\u001b[0m\u001b[0;34m)\u001b[0m\u001b[0;34m\u001b[0m\u001b[0;34m\u001b[0m\u001b[0m\n\u001b[0m\u001b[1;32m    118\u001b[0m         \u001b[0;32mexcept\u001b[0m \u001b[0mException\u001b[0m \u001b[0;32mas\u001b[0m \u001b[0me\u001b[0m\u001b[0;34m:\u001b[0m\u001b[0;34m\u001b[0m\u001b[0;34m\u001b[0m\u001b[0m\n\u001b[1;32m    119\u001b[0m             \u001b[0mfiltered_tb\u001b[0m \u001b[0;34m=\u001b[0m \u001b[0m_process_traceback_frames\u001b[0m\u001b[0;34m(\u001b[0m\u001b[0me\u001b[0m\u001b[0;34m.\u001b[0m\u001b[0m__traceback__\u001b[0m\u001b[0;34m)\u001b[0m\u001b[0;34m\u001b[0m\u001b[0;34m\u001b[0m\u001b[0m\n",
            "\u001b[0;32m/usr/local/lib/python3.10/dist-packages/keras/src/backend/tensorflow/trainer.py\u001b[0m in \u001b[0;36mfit\u001b[0;34m(self, x, y, batch_size, epochs, verbose, callbacks, validation_split, validation_data, shuffle, class_weight, sample_weight, initial_epoch, steps_per_epoch, validation_steps, validation_batch_size, validation_freq)\u001b[0m\n\u001b[1;32m    318\u001b[0m                 \u001b[0;32mfor\u001b[0m \u001b[0mstep\u001b[0m\u001b[0;34m,\u001b[0m \u001b[0miterator\u001b[0m \u001b[0;32min\u001b[0m \u001b[0mepoch_iterator\u001b[0m\u001b[0;34m.\u001b[0m\u001b[0menumerate_epoch\u001b[0m\u001b[0;34m(\u001b[0m\u001b[0;34m)\u001b[0m\u001b[0;34m:\u001b[0m\u001b[0;34m\u001b[0m\u001b[0;34m\u001b[0m\u001b[0m\n\u001b[1;32m    319\u001b[0m                     \u001b[0mcallbacks\u001b[0m\u001b[0;34m.\u001b[0m\u001b[0mon_train_batch_begin\u001b[0m\u001b[0;34m(\u001b[0m\u001b[0mstep\u001b[0m\u001b[0;34m)\u001b[0m\u001b[0;34m\u001b[0m\u001b[0;34m\u001b[0m\u001b[0m\n\u001b[0;32m--> 320\u001b[0;31m                     \u001b[0mlogs\u001b[0m \u001b[0;34m=\u001b[0m \u001b[0mself\u001b[0m\u001b[0;34m.\u001b[0m\u001b[0mtrain_function\u001b[0m\u001b[0;34m(\u001b[0m\u001b[0miterator\u001b[0m\u001b[0;34m)\u001b[0m\u001b[0;34m\u001b[0m\u001b[0;34m\u001b[0m\u001b[0m\n\u001b[0m\u001b[1;32m    321\u001b[0m                     \u001b[0mlogs\u001b[0m \u001b[0;34m=\u001b[0m \u001b[0mself\u001b[0m\u001b[0;34m.\u001b[0m\u001b[0m_pythonify_logs\u001b[0m\u001b[0;34m(\u001b[0m\u001b[0mlogs\u001b[0m\u001b[0;34m)\u001b[0m\u001b[0;34m\u001b[0m\u001b[0;34m\u001b[0m\u001b[0m\n\u001b[1;32m    322\u001b[0m                     \u001b[0mcallbacks\u001b[0m\u001b[0;34m.\u001b[0m\u001b[0mon_train_batch_end\u001b[0m\u001b[0;34m(\u001b[0m\u001b[0mstep\u001b[0m\u001b[0;34m,\u001b[0m \u001b[0mlogs\u001b[0m\u001b[0;34m)\u001b[0m\u001b[0;34m\u001b[0m\u001b[0;34m\u001b[0m\u001b[0m\n",
            "\u001b[0;32m/usr/local/lib/python3.10/dist-packages/tensorflow/python/util/traceback_utils.py\u001b[0m in \u001b[0;36merror_handler\u001b[0;34m(*args, **kwargs)\u001b[0m\n\u001b[1;32m    148\u001b[0m     \u001b[0mfiltered_tb\u001b[0m \u001b[0;34m=\u001b[0m \u001b[0;32mNone\u001b[0m\u001b[0;34m\u001b[0m\u001b[0;34m\u001b[0m\u001b[0m\n\u001b[1;32m    149\u001b[0m     \u001b[0;32mtry\u001b[0m\u001b[0;34m:\u001b[0m\u001b[0;34m\u001b[0m\u001b[0;34m\u001b[0m\u001b[0m\n\u001b[0;32m--> 150\u001b[0;31m       \u001b[0;32mreturn\u001b[0m \u001b[0mfn\u001b[0m\u001b[0;34m(\u001b[0m\u001b[0;34m*\u001b[0m\u001b[0margs\u001b[0m\u001b[0;34m,\u001b[0m \u001b[0;34m**\u001b[0m\u001b[0mkwargs\u001b[0m\u001b[0;34m)\u001b[0m\u001b[0;34m\u001b[0m\u001b[0;34m\u001b[0m\u001b[0m\n\u001b[0m\u001b[1;32m    151\u001b[0m     \u001b[0;32mexcept\u001b[0m \u001b[0mException\u001b[0m \u001b[0;32mas\u001b[0m \u001b[0me\u001b[0m\u001b[0;34m:\u001b[0m\u001b[0;34m\u001b[0m\u001b[0;34m\u001b[0m\u001b[0m\n\u001b[1;32m    152\u001b[0m       \u001b[0mfiltered_tb\u001b[0m \u001b[0;34m=\u001b[0m \u001b[0m_process_traceback_frames\u001b[0m\u001b[0;34m(\u001b[0m\u001b[0me\u001b[0m\u001b[0;34m.\u001b[0m\u001b[0m__traceback__\u001b[0m\u001b[0;34m)\u001b[0m\u001b[0;34m\u001b[0m\u001b[0;34m\u001b[0m\u001b[0m\n",
            "\u001b[0;32m/usr/local/lib/python3.10/dist-packages/tensorflow/python/eager/polymorphic_function/polymorphic_function.py\u001b[0m in \u001b[0;36m__call__\u001b[0;34m(self, *args, **kwds)\u001b[0m\n\u001b[1;32m    831\u001b[0m \u001b[0;34m\u001b[0m\u001b[0m\n\u001b[1;32m    832\u001b[0m       \u001b[0;32mwith\u001b[0m \u001b[0mOptionalXlaContext\u001b[0m\u001b[0;34m(\u001b[0m\u001b[0mself\u001b[0m\u001b[0;34m.\u001b[0m\u001b[0m_jit_compile\u001b[0m\u001b[0;34m)\u001b[0m\u001b[0;34m:\u001b[0m\u001b[0;34m\u001b[0m\u001b[0;34m\u001b[0m\u001b[0m\n\u001b[0;32m--> 833\u001b[0;31m         \u001b[0mresult\u001b[0m \u001b[0;34m=\u001b[0m \u001b[0mself\u001b[0m\u001b[0;34m.\u001b[0m\u001b[0m_call\u001b[0m\u001b[0;34m(\u001b[0m\u001b[0;34m*\u001b[0m\u001b[0margs\u001b[0m\u001b[0;34m,\u001b[0m \u001b[0;34m**\u001b[0m\u001b[0mkwds\u001b[0m\u001b[0;34m)\u001b[0m\u001b[0;34m\u001b[0m\u001b[0;34m\u001b[0m\u001b[0m\n\u001b[0m\u001b[1;32m    834\u001b[0m \u001b[0;34m\u001b[0m\u001b[0m\n\u001b[1;32m    835\u001b[0m       \u001b[0mnew_tracing_count\u001b[0m \u001b[0;34m=\u001b[0m \u001b[0mself\u001b[0m\u001b[0;34m.\u001b[0m\u001b[0mexperimental_get_tracing_count\u001b[0m\u001b[0;34m(\u001b[0m\u001b[0;34m)\u001b[0m\u001b[0;34m\u001b[0m\u001b[0;34m\u001b[0m\u001b[0m\n",
            "\u001b[0;32m/usr/local/lib/python3.10/dist-packages/tensorflow/python/eager/polymorphic_function/polymorphic_function.py\u001b[0m in \u001b[0;36m_call\u001b[0;34m(self, *args, **kwds)\u001b[0m\n\u001b[1;32m    876\u001b[0m       \u001b[0;31m# In this case we have not created variables on the first call. So we can\u001b[0m\u001b[0;34m\u001b[0m\u001b[0;34m\u001b[0m\u001b[0m\n\u001b[1;32m    877\u001b[0m       \u001b[0;31m# run the first trace but we should fail if variables are created.\u001b[0m\u001b[0;34m\u001b[0m\u001b[0;34m\u001b[0m\u001b[0m\n\u001b[0;32m--> 878\u001b[0;31m       results = tracing_compilation.call_function(\n\u001b[0m\u001b[1;32m    879\u001b[0m           \u001b[0margs\u001b[0m\u001b[0;34m,\u001b[0m \u001b[0mkwds\u001b[0m\u001b[0;34m,\u001b[0m \u001b[0mself\u001b[0m\u001b[0;34m.\u001b[0m\u001b[0m_variable_creation_config\u001b[0m\u001b[0;34m\u001b[0m\u001b[0;34m\u001b[0m\u001b[0m\n\u001b[1;32m    880\u001b[0m       )\n",
            "\u001b[0;32m/usr/local/lib/python3.10/dist-packages/tensorflow/python/eager/polymorphic_function/tracing_compilation.py\u001b[0m in \u001b[0;36mcall_function\u001b[0;34m(args, kwargs, tracing_options)\u001b[0m\n\u001b[1;32m    137\u001b[0m   \u001b[0mbound_args\u001b[0m \u001b[0;34m=\u001b[0m \u001b[0mfunction\u001b[0m\u001b[0;34m.\u001b[0m\u001b[0mfunction_type\u001b[0m\u001b[0;34m.\u001b[0m\u001b[0mbind\u001b[0m\u001b[0;34m(\u001b[0m\u001b[0;34m*\u001b[0m\u001b[0margs\u001b[0m\u001b[0;34m,\u001b[0m \u001b[0;34m**\u001b[0m\u001b[0mkwargs\u001b[0m\u001b[0;34m)\u001b[0m\u001b[0;34m\u001b[0m\u001b[0;34m\u001b[0m\u001b[0m\n\u001b[1;32m    138\u001b[0m   \u001b[0mflat_inputs\u001b[0m \u001b[0;34m=\u001b[0m \u001b[0mfunction\u001b[0m\u001b[0;34m.\u001b[0m\u001b[0mfunction_type\u001b[0m\u001b[0;34m.\u001b[0m\u001b[0munpack_inputs\u001b[0m\u001b[0;34m(\u001b[0m\u001b[0mbound_args\u001b[0m\u001b[0;34m)\u001b[0m\u001b[0;34m\u001b[0m\u001b[0;34m\u001b[0m\u001b[0m\n\u001b[0;32m--> 139\u001b[0;31m   return function._call_flat(  # pylint: disable=protected-access\n\u001b[0m\u001b[1;32m    140\u001b[0m       \u001b[0mflat_inputs\u001b[0m\u001b[0;34m,\u001b[0m \u001b[0mcaptured_inputs\u001b[0m\u001b[0;34m=\u001b[0m\u001b[0mfunction\u001b[0m\u001b[0;34m.\u001b[0m\u001b[0mcaptured_inputs\u001b[0m\u001b[0;34m\u001b[0m\u001b[0;34m\u001b[0m\u001b[0m\n\u001b[1;32m    141\u001b[0m   )\n",
            "\u001b[0;32m/usr/local/lib/python3.10/dist-packages/tensorflow/python/eager/polymorphic_function/concrete_function.py\u001b[0m in \u001b[0;36m_call_flat\u001b[0;34m(self, tensor_inputs, captured_inputs)\u001b[0m\n\u001b[1;32m   1320\u001b[0m         and executing_eagerly):\n\u001b[1;32m   1321\u001b[0m       \u001b[0;31m# No tape is watching; skip to running the function.\u001b[0m\u001b[0;34m\u001b[0m\u001b[0;34m\u001b[0m\u001b[0m\n\u001b[0;32m-> 1322\u001b[0;31m       \u001b[0;32mreturn\u001b[0m \u001b[0mself\u001b[0m\u001b[0;34m.\u001b[0m\u001b[0m_inference_function\u001b[0m\u001b[0;34m.\u001b[0m\u001b[0mcall_preflattened\u001b[0m\u001b[0;34m(\u001b[0m\u001b[0margs\u001b[0m\u001b[0;34m)\u001b[0m\u001b[0;34m\u001b[0m\u001b[0;34m\u001b[0m\u001b[0m\n\u001b[0m\u001b[1;32m   1323\u001b[0m     forward_backward = self._select_forward_and_backward_functions(\n\u001b[1;32m   1324\u001b[0m         \u001b[0margs\u001b[0m\u001b[0;34m,\u001b[0m\u001b[0;34m\u001b[0m\u001b[0;34m\u001b[0m\u001b[0m\n",
            "\u001b[0;32m/usr/local/lib/python3.10/dist-packages/tensorflow/python/eager/polymorphic_function/atomic_function.py\u001b[0m in \u001b[0;36mcall_preflattened\u001b[0;34m(self, args)\u001b[0m\n\u001b[1;32m    214\u001b[0m   \u001b[0;32mdef\u001b[0m \u001b[0mcall_preflattened\u001b[0m\u001b[0;34m(\u001b[0m\u001b[0mself\u001b[0m\u001b[0;34m,\u001b[0m \u001b[0margs\u001b[0m\u001b[0;34m:\u001b[0m \u001b[0mSequence\u001b[0m\u001b[0;34m[\u001b[0m\u001b[0mcore\u001b[0m\u001b[0;34m.\u001b[0m\u001b[0mTensor\u001b[0m\u001b[0;34m]\u001b[0m\u001b[0;34m)\u001b[0m \u001b[0;34m->\u001b[0m \u001b[0mAny\u001b[0m\u001b[0;34m:\u001b[0m\u001b[0;34m\u001b[0m\u001b[0;34m\u001b[0m\u001b[0m\n\u001b[1;32m    215\u001b[0m     \u001b[0;34m\"\"\"Calls with flattened tensor inputs and returns the structured output.\"\"\"\u001b[0m\u001b[0;34m\u001b[0m\u001b[0;34m\u001b[0m\u001b[0m\n\u001b[0;32m--> 216\u001b[0;31m     \u001b[0mflat_outputs\u001b[0m \u001b[0;34m=\u001b[0m \u001b[0mself\u001b[0m\u001b[0;34m.\u001b[0m\u001b[0mcall_flat\u001b[0m\u001b[0;34m(\u001b[0m\u001b[0;34m*\u001b[0m\u001b[0margs\u001b[0m\u001b[0;34m)\u001b[0m\u001b[0;34m\u001b[0m\u001b[0;34m\u001b[0m\u001b[0m\n\u001b[0m\u001b[1;32m    217\u001b[0m     \u001b[0;32mreturn\u001b[0m \u001b[0mself\u001b[0m\u001b[0;34m.\u001b[0m\u001b[0mfunction_type\u001b[0m\u001b[0;34m.\u001b[0m\u001b[0mpack_output\u001b[0m\u001b[0;34m(\u001b[0m\u001b[0mflat_outputs\u001b[0m\u001b[0;34m)\u001b[0m\u001b[0;34m\u001b[0m\u001b[0;34m\u001b[0m\u001b[0m\n\u001b[1;32m    218\u001b[0m \u001b[0;34m\u001b[0m\u001b[0m\n",
            "\u001b[0;32m/usr/local/lib/python3.10/dist-packages/tensorflow/python/eager/polymorphic_function/atomic_function.py\u001b[0m in \u001b[0;36mcall_flat\u001b[0;34m(self, *args)\u001b[0m\n\u001b[1;32m    249\u001b[0m         \u001b[0;32mwith\u001b[0m \u001b[0mrecord\u001b[0m\u001b[0;34m.\u001b[0m\u001b[0mstop_recording\u001b[0m\u001b[0;34m(\u001b[0m\u001b[0;34m)\u001b[0m\u001b[0;34m:\u001b[0m\u001b[0;34m\u001b[0m\u001b[0;34m\u001b[0m\u001b[0m\n\u001b[1;32m    250\u001b[0m           \u001b[0;32mif\u001b[0m \u001b[0mself\u001b[0m\u001b[0;34m.\u001b[0m\u001b[0m_bound_context\u001b[0m\u001b[0;34m.\u001b[0m\u001b[0mexecuting_eagerly\u001b[0m\u001b[0;34m(\u001b[0m\u001b[0;34m)\u001b[0m\u001b[0;34m:\u001b[0m\u001b[0;34m\u001b[0m\u001b[0;34m\u001b[0m\u001b[0m\n\u001b[0;32m--> 251\u001b[0;31m             outputs = self._bound_context.call_function(\n\u001b[0m\u001b[1;32m    252\u001b[0m                 \u001b[0mself\u001b[0m\u001b[0;34m.\u001b[0m\u001b[0mname\u001b[0m\u001b[0;34m,\u001b[0m\u001b[0;34m\u001b[0m\u001b[0;34m\u001b[0m\u001b[0m\n\u001b[1;32m    253\u001b[0m                 \u001b[0mlist\u001b[0m\u001b[0;34m(\u001b[0m\u001b[0margs\u001b[0m\u001b[0;34m)\u001b[0m\u001b[0;34m,\u001b[0m\u001b[0;34m\u001b[0m\u001b[0;34m\u001b[0m\u001b[0m\n",
            "\u001b[0;32m/usr/local/lib/python3.10/dist-packages/tensorflow/python/eager/context.py\u001b[0m in \u001b[0;36mcall_function\u001b[0;34m(self, name, tensor_inputs, num_outputs)\u001b[0m\n\u001b[1;32m   1550\u001b[0m     \u001b[0mcancellation_context\u001b[0m \u001b[0;34m=\u001b[0m \u001b[0mcancellation\u001b[0m\u001b[0;34m.\u001b[0m\u001b[0mcontext\u001b[0m\u001b[0;34m(\u001b[0m\u001b[0;34m)\u001b[0m\u001b[0;34m\u001b[0m\u001b[0;34m\u001b[0m\u001b[0m\n\u001b[1;32m   1551\u001b[0m     \u001b[0;32mif\u001b[0m \u001b[0mcancellation_context\u001b[0m \u001b[0;32mis\u001b[0m \u001b[0;32mNone\u001b[0m\u001b[0;34m:\u001b[0m\u001b[0;34m\u001b[0m\u001b[0;34m\u001b[0m\u001b[0m\n\u001b[0;32m-> 1552\u001b[0;31m       outputs = execute.execute(\n\u001b[0m\u001b[1;32m   1553\u001b[0m           \u001b[0mname\u001b[0m\u001b[0;34m.\u001b[0m\u001b[0mdecode\u001b[0m\u001b[0;34m(\u001b[0m\u001b[0;34m\"utf-8\"\u001b[0m\u001b[0;34m)\u001b[0m\u001b[0;34m,\u001b[0m\u001b[0;34m\u001b[0m\u001b[0;34m\u001b[0m\u001b[0m\n\u001b[1;32m   1554\u001b[0m           \u001b[0mnum_outputs\u001b[0m\u001b[0;34m=\u001b[0m\u001b[0mnum_outputs\u001b[0m\u001b[0;34m,\u001b[0m\u001b[0;34m\u001b[0m\u001b[0;34m\u001b[0m\u001b[0m\n",
            "\u001b[0;32m/usr/local/lib/python3.10/dist-packages/tensorflow/python/eager/execute.py\u001b[0m in \u001b[0;36mquick_execute\u001b[0;34m(op_name, num_outputs, inputs, attrs, ctx, name)\u001b[0m\n\u001b[1;32m     51\u001b[0m   \u001b[0;32mtry\u001b[0m\u001b[0;34m:\u001b[0m\u001b[0;34m\u001b[0m\u001b[0;34m\u001b[0m\u001b[0m\n\u001b[1;32m     52\u001b[0m     \u001b[0mctx\u001b[0m\u001b[0;34m.\u001b[0m\u001b[0mensure_initialized\u001b[0m\u001b[0;34m(\u001b[0m\u001b[0;34m)\u001b[0m\u001b[0;34m\u001b[0m\u001b[0;34m\u001b[0m\u001b[0m\n\u001b[0;32m---> 53\u001b[0;31m     tensors = pywrap_tfe.TFE_Py_Execute(ctx._handle, device_name, op_name,\n\u001b[0m\u001b[1;32m     54\u001b[0m                                         inputs, attrs, num_outputs)\n\u001b[1;32m     55\u001b[0m   \u001b[0;32mexcept\u001b[0m \u001b[0mcore\u001b[0m\u001b[0;34m.\u001b[0m\u001b[0m_NotOkStatusException\u001b[0m \u001b[0;32mas\u001b[0m \u001b[0me\u001b[0m\u001b[0;34m:\u001b[0m\u001b[0;34m\u001b[0m\u001b[0;34m\u001b[0m\u001b[0m\n",
            "\u001b[0;31mKeyboardInterrupt\u001b[0m: "
          ]
        }
      ]
    },
    {
      "cell_type": "markdown",
      "metadata": {
        "id": "QD6SIafXCYbb"
      },
      "source": [
        "# Evaluación"
      ]
    },
    {
      "cell_type": "code",
      "execution_count": 38,
      "metadata": {
        "vscode": {
          "languageId": "plaintext"
        },
        "id": "z7UV-B3eCYbb",
        "colab": {
          "base_uri": "https://localhost:8080/"
        },
        "outputId": "9a7ced8c-a09b-4300-9bdb-ae9e71cc4425"
      },
      "outputs": [
        {
          "output_type": "stream",
          "name": "stdout",
          "text": [
            "\u001b[1m1/1\u001b[0m \u001b[32m━━━━━━━━━━━━━━━━━━━━\u001b[0m\u001b[37m\u001b[0m \u001b[1m0s\u001b[0m 19ms/step\n",
            "NEXT|21|v\n",
            "\u001b[1m1/1\u001b[0m \u001b[32m━━━━━━━━━━━━━━━━━━━━\u001b[0m\u001b[37m\u001b[0m \u001b[1m0s\u001b[0m 17ms/step\n",
            "NEXT|9|i\n",
            "\u001b[1m1/1\u001b[0m \u001b[32m━━━━━━━━━━━━━━━━━━━━\u001b[0m\u001b[37m\u001b[0m \u001b[1m0s\u001b[0m 15ms/step\n",
            "NEXT|12|m\n",
            "\u001b[1m1/1\u001b[0m \u001b[32m━━━━━━━━━━━━━━━━━━━━\u001b[0m\u001b[37m\u001b[0m \u001b[1m0s\u001b[0m 16ms/step\n",
            "NEXT|21|v\n",
            "\u001b[1m1/1\u001b[0m \u001b[32m━━━━━━━━━━━━━━━━━━━━\u001b[0m\u001b[37m\u001b[0m \u001b[1m0s\u001b[0m 17ms/step\n",
            "NEXT|11|l\n",
            "\u001b[1m1/1\u001b[0m \u001b[32m━━━━━━━━━━━━━━━━━━━━\u001b[0m\u001b[37m\u001b[0m \u001b[1m0s\u001b[0m 16ms/step\n",
            "NEXT|20|u\n",
            "\u001b[1m1/1\u001b[0m \u001b[32m━━━━━━━━━━━━━━━━━━━━\u001b[0m\u001b[37m\u001b[0m \u001b[1m0s\u001b[0m 17ms/step\n",
            "NEXT|19|t\n",
            "\u001b[1m1/1\u001b[0m \u001b[32m━━━━━━━━━━━━━━━━━━━━\u001b[0m\u001b[37m\u001b[0m \u001b[1m0s\u001b[0m 17ms/step\n",
            "NEXT|20|u\n",
            "\u001b[1m1/1\u001b[0m \u001b[32m━━━━━━━━━━━━━━━━━━━━\u001b[0m\u001b[37m\u001b[0m \u001b[1m0s\u001b[0m 15ms/step\n",
            "NEXT|16|q\n",
            "\u001b[1m1/1\u001b[0m \u001b[32m━━━━━━━━━━━━━━━━━━━━\u001b[0m\u001b[37m\u001b[0m \u001b[1m0s\u001b[0m 16ms/step\n",
            "NEXT|17|r\n",
            "\u001b[1m1/1\u001b[0m \u001b[32m━━━━━━━━━━━━━━━━━━━━\u001b[0m\u001b[37m\u001b[0m \u001b[1m0s\u001b[0m 16ms/step\n",
            "NEXT|17|r\n",
            "\u001b[1m1/1\u001b[0m \u001b[32m━━━━━━━━━━━━━━━━━━━━\u001b[0m\u001b[37m\u001b[0m \u001b[1m0s\u001b[0m 19ms/step\n",
            "NEXT|5|e\n",
            "\u001b[1m1/1\u001b[0m \u001b[32m━━━━━━━━━━━━━━━━━━━━\u001b[0m\u001b[37m\u001b[0m \u001b[1m0s\u001b[0m 21ms/step\n",
            "NEXT|5|e\n",
            "\u001b[1m1/1\u001b[0m \u001b[32m━━━━━━━━━━━━━━━━━━━━\u001b[0m\u001b[37m\u001b[0m \u001b[1m0s\u001b[0m 16ms/step\n",
            "NEXT|17|r\n",
            "\u001b[1m1/1\u001b[0m \u001b[32m━━━━━━━━━━━━━━━━━━━━\u001b[0m\u001b[37m\u001b[0m \u001b[1m0s\u001b[0m 15ms/step\n",
            "NEXT|17|r\n",
            "\u001b[1m1/1\u001b[0m \u001b[32m━━━━━━━━━━━━━━━━━━━━\u001b[0m\u001b[37m\u001b[0m \u001b[1m0s\u001b[0m 15ms/step\n",
            "NEXT|3|c\n",
            "\u001b[1m1/1\u001b[0m \u001b[32m━━━━━━━━━━━━━━━━━━━━\u001b[0m\u001b[37m\u001b[0m \u001b[1m0s\u001b[0m 17ms/step\n",
            "NEXT|3|c\n",
            "\u001b[1m1/1\u001b[0m \u001b[32m━━━━━━━━━━━━━━━━━━━━\u001b[0m\u001b[37m\u001b[0m \u001b[1m0s\u001b[0m 16ms/step\n",
            "NEXT|3|c\n",
            "\u001b[1m1/1\u001b[0m \u001b[32m━━━━━━━━━━━━━━━━━━━━\u001b[0m\u001b[37m\u001b[0m \u001b[1m0s\u001b[0m 17ms/step\n",
            "NEXT|3|c\n",
            "\u001b[1m1/1\u001b[0m \u001b[32m━━━━━━━━━━━━━━━━━━━━\u001b[0m\u001b[37m\u001b[0m \u001b[1m0s\u001b[0m 17ms/step\n",
            "NEXT|3|c\n",
            "he nacido al mismo tiempo que el sol el principito adivimvlutuqrreerrccccc\n"
          ]
        }
      ],
      "source": [
        "seed = \"yo no debia hacerle caso me confeso un dia el principito nunca hay que hacer caso a las flores basta con mirarlas y ole\"\n",
        "result = seed\n",
        "seed_data = [encode_keys[char]/(vocab_size - 1) for char in seed]\n",
        "for i in range(20):\n",
        "  predict_data = np.reshape(np.array(seed_data), (1, len(seed_data), 1))\n",
        "  prediction = vect_model.predict(predict_data)\n",
        "\n",
        "  index = np.argmax(prediction)\n",
        "  next_char = decode_keys[index]\n",
        "  result += next_char\n",
        "  print(\"NEXT\",index,next_char,sep=\"|\")\n",
        "\n",
        "  seed_data.append(encode_keys[char]/(vocab_size - 1))\n",
        "  if (len(seed_data) > seq_length):\n",
        "    seed_data = seed_data[1:] #Remove first element to move window along sequence\n",
        "\n",
        "  if ( (next_char == \" \")or(next_char == \"\\n\") ):\n",
        "    break\n",
        "\n",
        "print(result)"
      ]
    }
  ],
  "metadata": {
    "language_info": {
      "name": "python"
    },
    "colab": {
      "provenance": [],
      "gpuType": "T4"
    },
    "kernelspec": {
      "name": "python3",
      "display_name": "Python 3"
    },
    "accelerator": "GPU"
  },
  "nbformat": 4,
  "nbformat_minor": 0
}